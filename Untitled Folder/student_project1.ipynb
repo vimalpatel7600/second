{
 "cells": [
  {
   "cell_type": "code",
   "execution_count": 1,
   "id": "c9247ad6",
   "metadata": {},
   "outputs": [
    {
     "data": {
      "text/plain": [
       "'name\\troll\\tmath\\tsci\\teng\\nGrras\\t1\\t86\\t87\\t85\\nAhsan\\t2\\t91\\t89\\t87\\nNirav\\t3\\t89\\t78\\t96\\nMihir\\t4\\t89\\t85\\t79\\nAbhay\\t5\\t89\\t74\\t85\\nVimal\\t6\\t87\\t85\\t94\\nDixit\\t7\\t75\\t85\\t89\\nDhruv\\t8\\t85\\t74\\t74\\nPrince\\t9\\t68\\t78\\t91\\nAnjali\\t10\\t78\\t58\\t67\\n\\n'"
      ]
     },
     "execution_count": 1,
     "metadata": {},
     "output_type": "execute_result"
    }
   ],
   "source": [
    "file = open(\"C:/Users/BAPS/Desktop/student_data.txt\",\"r\")\n",
    "data  = file.read()\n",
    "data"
   ]
  },
  {
   "cell_type": "code",
   "execution_count": 2,
   "id": "8e494331",
   "metadata": {},
   "outputs": [
    {
     "data": {
      "text/plain": [
       "['name\\troll\\tmath\\tsci\\teng',\n",
       " 'Grras\\t1\\t86\\t87\\t85',\n",
       " 'Ahsan\\t2\\t91\\t89\\t87',\n",
       " 'Nirav\\t3\\t89\\t78\\t96',\n",
       " 'Mihir\\t4\\t89\\t85\\t79',\n",
       " 'Abhay\\t5\\t89\\t74\\t85',\n",
       " 'Vimal\\t6\\t87\\t85\\t94',\n",
       " 'Dixit\\t7\\t75\\t85\\t89',\n",
       " 'Dhruv\\t8\\t85\\t74\\t74',\n",
       " 'Prince\\t9\\t68\\t78\\t91',\n",
       " 'Anjali\\t10\\t78\\t58\\t67',\n",
       " '',\n",
       " '']"
      ]
     },
     "execution_count": 2,
     "metadata": {},
     "output_type": "execute_result"
    }
   ],
   "source": [
    "d = data.split(\"\\n\")\n",
    "d"
   ]
  },
  {
   "cell_type": "code",
   "execution_count": 3,
   "id": "4aa9f720",
   "metadata": {},
   "outputs": [
    {
     "data": {
      "text/plain": [
       "['name\\troll\\tmath\\tsci\\teng',\n",
       " 'Grras\\t1\\t86\\t87\\t85',\n",
       " 'Ahsan\\t2\\t91\\t89\\t87',\n",
       " 'Nirav\\t3\\t89\\t78\\t96',\n",
       " 'Mihir\\t4\\t89\\t85\\t79',\n",
       " 'Abhay\\t5\\t89\\t74\\t85',\n",
       " 'Vimal\\t6\\t87\\t85\\t94',\n",
       " 'Dixit\\t7\\t75\\t85\\t89',\n",
       " 'Dhruv\\t8\\t85\\t74\\t74',\n",
       " 'Prince\\t9\\t68\\t78\\t91',\n",
       " 'Anjali\\t10\\t78\\t58\\t67',\n",
       " '']"
      ]
     },
     "execution_count": 3,
     "metadata": {},
     "output_type": "execute_result"
    }
   ],
   "source": [
    "d.pop()\n",
    "d"
   ]
  },
  {
   "cell_type": "code",
   "execution_count": 4,
   "id": "d55f29fa",
   "metadata": {},
   "outputs": [
    {
     "data": {
      "text/plain": [
       "['name\\troll\\tmath\\tsci\\teng',\n",
       " 'Grras\\t1\\t86\\t87\\t85',\n",
       " 'Ahsan\\t2\\t91\\t89\\t87',\n",
       " 'Nirav\\t3\\t89\\t78\\t96',\n",
       " 'Mihir\\t4\\t89\\t85\\t79',\n",
       " 'Abhay\\t5\\t89\\t74\\t85',\n",
       " 'Vimal\\t6\\t87\\t85\\t94',\n",
       " 'Dixit\\t7\\t75\\t85\\t89',\n",
       " 'Dhruv\\t8\\t85\\t74\\t74',\n",
       " 'Prince\\t9\\t68\\t78\\t91',\n",
       " 'Anjali\\t10\\t78\\t58\\t67']"
      ]
     },
     "execution_count": 4,
     "metadata": {},
     "output_type": "execute_result"
    }
   ],
   "source": [
    "d.pop()\n",
    "d"
   ]
  },
  {
   "cell_type": "code",
   "execution_count": 5,
   "id": "16aa3917",
   "metadata": {},
   "outputs": [
    {
     "data": {
      "text/plain": [
       "'name\\troll\\tmath\\tsci\\teng'"
      ]
     },
     "execution_count": 5,
     "metadata": {},
     "output_type": "execute_result"
    }
   ],
   "source": [
    "d[0]"
   ]
  },
  {
   "cell_type": "code",
   "execution_count": 6,
   "id": "f1e91fc6",
   "metadata": {},
   "outputs": [
    {
     "name": "stdout",
     "output_type": "stream",
     "text": [
      "['Grras', '1', '86', '87', '85', '258']\n",
      "['Ahsan', '2', '91', '89', '87', '267']\n",
      "['Nirav', '3', '89', '78', '96', '263']\n",
      "['Mihir', '4', '89', '85', '79', '253']\n",
      "['Abhay', '5', '89', '74', '85', '248']\n",
      "['Vimal', '6', '87', '85', '94', '266']\n",
      "['Dixit', '7', '75', '85', '89', '249']\n",
      "['Dhruv', '8', '85', '74', '74', '233']\n",
      "['Prince', '9', '68', '78', '91', '237']\n",
      "['Anjali', '10', '78', '58', '67', '203']\n"
     ]
    }
   ],
   "source": [
    "result = []\n",
    "for i in d[1:]:\n",
    "#     print(i)\n",
    "    sp = i.split(\"\\t\")\n",
    "#     print(sp)\n",
    "    total = str(sum(map(int,sp[2:])))\n",
    "#     print(total)\n",
    "    sp.append(total)\n",
    "    print(sp)\n",
    "    result.append(sp)"
   ]
  },
  {
   "cell_type": "code",
   "execution_count": 7,
   "id": "16d23048",
   "metadata": {},
   "outputs": [
    {
     "name": "stdout",
     "output_type": "stream",
     "text": [
      "[['Grras', '1', '86', '87', '85', '258'], ['Ahsan', '2', '91', '89', '87', '267'], ['Nirav', '3', '89', '78', '96', '263'], ['Mihir', '4', '89', '85', '79', '253'], ['Abhay', '5', '89', '74', '85', '248'], ['Vimal', '6', '87', '85', '94', '266'], ['Dixit', '7', '75', '85', '89', '249'], ['Dhruv', '8', '85', '74', '74', '233'], ['Prince', '9', '68', '78', '91', '237'], ['Anjali', '10', '78', '58', '67', '203']]\n"
     ]
    }
   ],
   "source": [
    "print(result)"
   ]
  },
  {
   "cell_type": "code",
   "execution_count": 8,
   "id": "bac6b3db",
   "metadata": {},
   "outputs": [
    {
     "name": "stdout",
     "output_type": "stream",
     "text": [
      "Grras\t1\t86\t87\t85\t258\n",
      "Ahsan\t2\t91\t89\t87\t267\n",
      "Nirav\t3\t89\t78\t96\t263\n",
      "Mihir\t4\t89\t85\t79\t253\n",
      "Abhay\t5\t89\t74\t85\t248\n",
      "Vimal\t6\t87\t85\t94\t266\n",
      "Dixit\t7\t75\t85\t89\t249\n",
      "Dhruv\t8\t85\t74\t74\t233\n",
      "Prince\t9\t68\t78\t91\t237\n",
      "Anjali\t10\t78\t58\t67\t203\n"
     ]
    }
   ],
   "source": [
    "r=''\n",
    "for i in result:\n",
    "#     print(i)\n",
    "    i = \"\\t\".join(i)\n",
    "    print(i)\n",
    "    r +=i+\"\\n\""
   ]
  },
  {
   "cell_type": "code",
   "execution_count": 9,
   "id": "3803e5c4",
   "metadata": {},
   "outputs": [
    {
     "name": "stdout",
     "output_type": "stream",
     "text": [
      "Grras\t1\t86\t87\t85\t258\n",
      "Ahsan\t2\t91\t89\t87\t267\n",
      "Nirav\t3\t89\t78\t96\t263\n",
      "Mihir\t4\t89\t85\t79\t253\n",
      "Abhay\t5\t89\t74\t85\t248\n",
      "Vimal\t6\t87\t85\t94\t266\n",
      "Dixit\t7\t75\t85\t89\t249\n",
      "Dhruv\t8\t85\t74\t74\t233\n",
      "Prince\t9\t68\t78\t91\t237\n",
      "Anjali\t10\t78\t58\t67\t203\n",
      "\n"
     ]
    }
   ],
   "source": [
    "print(r)"
   ]
  },
  {
   "cell_type": "code",
   "execution_count": 10,
   "id": "50765e52",
   "metadata": {},
   "outputs": [
    {
     "name": "stdout",
     "output_type": "stream",
     "text": [
      "name\troll\tmath\tsci\tengGrras\t1\t86\t87\t85\t258\n",
      "Ahsan\t2\t91\t89\t87\t267\n",
      "Nirav\t3\t89\t78\t96\t263\n",
      "Mihir\t4\t89\t85\t79\t253\n",
      "Abhay\t5\t89\t74\t85\t248\n",
      "Vimal\t6\t87\t85\t94\t266\n",
      "Dixit\t7\t75\t85\t89\t249\n",
      "Dhruv\t8\t85\t74\t74\t233\n",
      "Prince\t9\t68\t78\t91\t237\n",
      "Anjali\t10\t78\t58\t67\t203\n",
      "\n"
     ]
    }
   ],
   "source": [
    "print(d[0]+r)"
   ]
  },
  {
   "cell_type": "code",
   "execution_count": 11,
   "id": "8f57802b",
   "metadata": {},
   "outputs": [],
   "source": [
    "head = d[0]+\"\\tTotal\\n\""
   ]
  },
  {
   "cell_type": "code",
   "execution_count": 12,
   "id": "3291ab51",
   "metadata": {},
   "outputs": [
    {
     "name": "stdout",
     "output_type": "stream",
     "text": [
      "name\troll\tmath\tsci\teng\tTotal\n",
      "Grras\t1\t86\t87\t85\t258\n",
      "Ahsan\t2\t91\t89\t87\t267\n",
      "Nirav\t3\t89\t78\t96\t263\n",
      "Mihir\t4\t89\t85\t79\t253\n",
      "Abhay\t5\t89\t74\t85\t248\n",
      "Vimal\t6\t87\t85\t94\t266\n",
      "Dixit\t7\t75\t85\t89\t249\n",
      "Dhruv\t8\t85\t74\t74\t233\n",
      "Prince\t9\t68\t78\t91\t237\n",
      "Anjali\t10\t78\t58\t67\t203\n",
      "\n"
     ]
    }
   ],
   "source": [
    "dataa = head+r\n",
    "print(dataa)"
   ]
  },
  {
   "cell_type": "code",
   "execution_count": 13,
   "id": "d13eea74",
   "metadata": {},
   "outputs": [
    {
     "data": {
      "text/plain": [
       "''"
      ]
     },
     "execution_count": 13,
     "metadata": {},
     "output_type": "execute_result"
    }
   ],
   "source": [
    "dataa\n",
    "f = dataa.split(\"\\n\")\n",
    "f\n",
    "f.pop()\n"
   ]
  },
  {
   "cell_type": "code",
   "execution_count": 14,
   "id": "3f2e8e28",
   "metadata": {},
   "outputs": [
    {
     "data": {
      "text/plain": [
       "'name\\troll\\tmath\\tsci\\teng\\tTotal'"
      ]
     },
     "execution_count": 14,
     "metadata": {},
     "output_type": "execute_result"
    }
   ],
   "source": [
    "f[0]"
   ]
  },
  {
   "cell_type": "code",
   "execution_count": 15,
   "id": "221e68b2",
   "metadata": {},
   "outputs": [],
   "source": [
    "percentage = []\n",
    "for i in f[1:]:\n",
    "#     print(i)\n",
    "    ip = i.split(\"\\t\")\n",
    "    per = str(round(sum(map(int,ip[2:5]))*100/300))\n",
    "#     print(per)\n",
    "    ip.append(per+\"%\")\n",
    "    percentage.append(ip)\n",
    "   \n",
    "    "
   ]
  },
  {
   "cell_type": "code",
   "execution_count": 16,
   "id": "6326940e",
   "metadata": {},
   "outputs": [
    {
     "name": "stdout",
     "output_type": "stream",
     "text": [
      "[['Grras', '1', '86', '87', '85', '258', '86%'], ['Ahsan', '2', '91', '89', '87', '267', '89%'], ['Nirav', '3', '89', '78', '96', '263', '88%'], ['Mihir', '4', '89', '85', '79', '253', '84%'], ['Abhay', '5', '89', '74', '85', '248', '83%'], ['Vimal', '6', '87', '85', '94', '266', '89%'], ['Dixit', '7', '75', '85', '89', '249', '83%'], ['Dhruv', '8', '85', '74', '74', '233', '78%'], ['Prince', '9', '68', '78', '91', '237', '79%'], ['Anjali', '10', '78', '58', '67', '203', '68%']]\n"
     ]
    }
   ],
   "source": [
    " print(percentage)"
   ]
  },
  {
   "cell_type": "code",
   "execution_count": 17,
   "id": "62a2f7b2",
   "metadata": {},
   "outputs": [
    {
     "name": "stdout",
     "output_type": "stream",
     "text": [
      "Grras\t1\t86\t87\t85\t258\t86%\n",
      "Ahsan\t2\t91\t89\t87\t267\t89%\n",
      "Nirav\t3\t89\t78\t96\t263\t88%\n",
      "Mihir\t4\t89\t85\t79\t253\t84%\n",
      "Abhay\t5\t89\t74\t85\t248\t83%\n",
      "Vimal\t6\t87\t85\t94\t266\t89%\n",
      "Dixit\t7\t75\t85\t89\t249\t83%\n",
      "Dhruv\t8\t85\t74\t74\t233\t78%\n",
      "Prince\t9\t68\t78\t91\t237\t79%\n",
      "Anjali\t10\t78\t58\t67\t203\t68%\n"
     ]
    }
   ],
   "source": [
    "p = ''\n",
    "for i in percentage:\n",
    "#     print(i)\n",
    "    i = \"\\t\".join(i)\n",
    "    print(i)\n",
    "    p += i+\"\\n\"\n",
    "    "
   ]
  },
  {
   "cell_type": "code",
   "execution_count": 18,
   "id": "9390c4da",
   "metadata": {},
   "outputs": [
    {
     "name": "stdout",
     "output_type": "stream",
     "text": [
      "Grras\t1\t86\t87\t85\t258\t86%\n",
      "Ahsan\t2\t91\t89\t87\t267\t89%\n",
      "Nirav\t3\t89\t78\t96\t263\t88%\n",
      "Mihir\t4\t89\t85\t79\t253\t84%\n",
      "Abhay\t5\t89\t74\t85\t248\t83%\n",
      "Vimal\t6\t87\t85\t94\t266\t89%\n",
      "Dixit\t7\t75\t85\t89\t249\t83%\n",
      "Dhruv\t8\t85\t74\t74\t233\t78%\n",
      "Prince\t9\t68\t78\t91\t237\t79%\n",
      "Anjali\t10\t78\t58\t67\t203\t68%\n",
      "\n"
     ]
    }
   ],
   "source": [
    "print(p)"
   ]
  },
  {
   "cell_type": "code",
   "execution_count": 19,
   "id": "61b40634",
   "metadata": {},
   "outputs": [
    {
     "name": "stdout",
     "output_type": "stream",
     "text": [
      "name\troll\tmath\tsci\teng\tTotalGrras\t1\t86\t87\t85\t258\t86%\n",
      "Ahsan\t2\t91\t89\t87\t267\t89%\n",
      "Nirav\t3\t89\t78\t96\t263\t88%\n",
      "Mihir\t4\t89\t85\t79\t253\t84%\n",
      "Abhay\t5\t89\t74\t85\t248\t83%\n",
      "Vimal\t6\t87\t85\t94\t266\t89%\n",
      "Dixit\t7\t75\t85\t89\t249\t83%\n",
      "Dhruv\t8\t85\t74\t74\t233\t78%\n",
      "Prince\t9\t68\t78\t91\t237\t79%\n",
      "Anjali\t10\t78\t58\t67\t203\t68%\n",
      "\n"
     ]
    }
   ],
   "source": [
    "print(f[0]+p)"
   ]
  },
  {
   "cell_type": "code",
   "execution_count": 20,
   "id": "ea85aa41",
   "metadata": {},
   "outputs": [
    {
     "data": {
      "text/plain": [
       "'name\\troll\\tmath\\tsci\\teng\\tTotal\\tPercentages\\n'"
      ]
     },
     "execution_count": 20,
     "metadata": {},
     "output_type": "execute_result"
    }
   ],
   "source": [
    "head = f[0]+\"\\tPercentages\\n\"\n",
    "head"
   ]
  },
  {
   "cell_type": "code",
   "execution_count": 21,
   "id": "d48ab65e",
   "metadata": {},
   "outputs": [
    {
     "name": "stdout",
     "output_type": "stream",
     "text": [
      "name\troll\tmath\tsci\teng\tTotal\tPercentages\n",
      "Grras\t1\t86\t87\t85\t258\t86%\n",
      "Ahsan\t2\t91\t89\t87\t267\t89%\n",
      "Nirav\t3\t89\t78\t96\t263\t88%\n",
      "Mihir\t4\t89\t85\t79\t253\t84%\n",
      "Abhay\t5\t89\t74\t85\t248\t83%\n",
      "Vimal\t6\t87\t85\t94\t266\t89%\n",
      "Dixit\t7\t75\t85\t89\t249\t83%\n",
      "Dhruv\t8\t85\t74\t74\t233\t78%\n",
      "Prince\t9\t68\t78\t91\t237\t79%\n",
      "Anjali\t10\t78\t58\t67\t203\t68%\n",
      "\n"
     ]
    }
   ],
   "source": [
    "dataa = head+p\n",
    "print(dataa)"
   ]
  },
  {
   "cell_type": "code",
   "execution_count": 22,
   "id": "80179c05",
   "metadata": {},
   "outputs": [
    {
     "name": "stdout",
     "output_type": "stream",
     "text": [
      "['name\\troll\\tmath\\tsci\\teng\\tTotal\\tPercentages', 'Grras\\t1\\t86\\t87\\t85\\t258\\t86%', 'Ahsan\\t2\\t91\\t89\\t87\\t267\\t89%', 'Nirav\\t3\\t89\\t78\\t96\\t263\\t88%', 'Mihir\\t4\\t89\\t85\\t79\\t253\\t84%', 'Abhay\\t5\\t89\\t74\\t85\\t248\\t83%', 'Vimal\\t6\\t87\\t85\\t94\\t266\\t89%', 'Dixit\\t7\\t75\\t85\\t89\\t249\\t83%', 'Dhruv\\t8\\t85\\t74\\t74\\t233\\t78%', 'Prince\\t9\\t68\\t78\\t91\\t237\\t79%', 'Anjali\\t10\\t78\\t58\\t67\\t203\\t68%', '']\n"
     ]
    }
   ],
   "source": [
    "a = dataa.split(\"\\n\")\n",
    "print(a)"
   ]
  },
  {
   "cell_type": "code",
   "execution_count": 23,
   "id": "6fc6cafd",
   "metadata": {},
   "outputs": [
    {
     "name": "stdout",
     "output_type": "stream",
     "text": [
      "['name', 'roll', 'math', 'sci', 'eng', 'Total', 'Percentages']\n",
      "['Grras', '1', '86', '87', '85', '258', '86%']\n",
      "['Ahsan', '2', '91', '89', '87', '267', '89%']\n",
      "['Nirav', '3', '89', '78', '96', '263', '88%']\n",
      "['Mihir', '4', '89', '85', '79', '253', '84%']\n",
      "['Abhay', '5', '89', '74', '85', '248', '83%']\n",
      "['Vimal', '6', '87', '85', '94', '266', '89%']\n",
      "['Dixit', '7', '75', '85', '89', '249', '83%']\n",
      "['Dhruv', '8', '85', '74', '74', '233', '78%']\n",
      "['Prince', '9', '68', '78', '91', '237', '79%']\n",
      "['Anjali', '10', '78', '58', '67', '203', '68%']\n",
      "['']\n"
     ]
    }
   ],
   "source": [
    "# roll = input(\"Enter Roll No. :\")\n",
    "# name = input(\"Enter Your Name :\").capitalize()\n",
    "\n",
    "for i in a:\n",
    "#     print(i)\n",
    "    sp = i.split(\"\\t\")\n",
    "    print(sp)\n",
    "#     if roll == sp[1] or name == sp[0]:\n",
    "#         print(a[0])\n",
    "#         print(i)\n",
    "    "
   ]
  },
  {
   "cell_type": "code",
   "execution_count": null,
   "id": "989e3ef7",
   "metadata": {},
   "outputs": [],
   "source": []
  },
  {
   "cell_type": "code",
   "execution_count": null,
   "id": "3c2e3c59",
   "metadata": {},
   "outputs": [],
   "source": []
  },
  {
   "cell_type": "code",
   "execution_count": null,
   "id": "dd13978a",
   "metadata": {},
   "outputs": [],
   "source": []
  }
 ],
 "metadata": {
  "kernelspec": {
   "display_name": "Python 3 (ipykernel)",
   "language": "python",
   "name": "python3"
  },
  "language_info": {
   "codemirror_mode": {
    "name": "ipython",
    "version": 3
   },
   "file_extension": ".py",
   "mimetype": "text/x-python",
   "name": "python",
   "nbconvert_exporter": "python",
   "pygments_lexer": "ipython3",
   "version": "3.11.3"
  }
 },
 "nbformat": 4,
 "nbformat_minor": 5
}
