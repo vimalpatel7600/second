{
 "cells": [
  {
   "cell_type": "code",
   "execution_count": null,
   "id": "be47378c",
   "metadata": {},
   "outputs": [],
   "source": [
    "def cal(*argu):\n",
    "    opr = [\"+\",\"-\",\"*\",\"/\"]\n",
    "    if argu[1] == \"+\" :\n",
    "        c = argu[0]+argu[2]\n",
    "        print(c)\n",
    "\n",
    "    elif argu[1] == \"-\" :\n",
    "        c = argu[0]-argu[2]\n",
    "        print(c)\n",
    "    elif argu[1] == \"*\" :\n",
    "        print( argu[0]*argu[2])\n",
    "\n",
    "    elif argu[1] == \"/\" :\n",
    "        print( argu[0]/argu[2])\n",
    "    elif argu[1] != opr:\n",
    "        print(\"Invalid Operater\") "
   ]
  },
  {
   "cell_type": "code",
   "execution_count": null,
   "id": "df44ae09",
   "metadata": {},
   "outputs": [],
   "source": [
    "cal(int(input(\"1st value :\")), input(\"enter operater :\"), int(input(\"2nd value:\")) )"
   ]
  },
  {
   "cell_type": "code",
   "execution_count": 108,
   "id": "b2c3d7ef",
   "metadata": {},
   "outputs": [],
   "source": [
    "def tp (*a) :\n",
    "    print(a)\n",
    "    result = sum(a)\n",
    "    print(result)"
   ]
  },
  {
   "cell_type": "code",
   "execution_count": 109,
   "id": "8a11d80d",
   "metadata": {},
   "outputs": [
    {
     "name": "stdout",
     "output_type": "stream",
     "text": [
      "(20, 10, 30, 50, 60)\n",
      "170\n"
     ]
    }
   ],
   "source": [
    "tp(20,10,30,50,60)"
   ]
  },
  {
   "cell_type": "code",
   "execution_count": 2,
   "id": "660849c5",
   "metadata": {},
   "outputs": [
    {
     "ename": "NameError",
     "evalue": "name 'tp' is not defined",
     "output_type": "error",
     "traceback": [
      "\u001b[1;31m---------------------------------------------------------------------------\u001b[0m",
      "\u001b[1;31mNameError\u001b[0m                                 Traceback (most recent call last)",
      "Cell \u001b[1;32mIn[2], line 1\u001b[0m\n\u001b[1;32m----> 1\u001b[0m \u001b[38;5;28mtype\u001b[39m(\u001b[43mtp\u001b[49m(\u001b[38;5;241m*\u001b[39ma))\n",
      "\u001b[1;31mNameError\u001b[0m: name 'tp' is not defined"
     ]
    }
   ],
   "source": []
  },
  {
   "cell_type": "code",
   "execution_count": null,
   "id": "d14f1092",
   "metadata": {},
   "outputs": [],
   "source": []
  }
 ],
 "metadata": {
  "kernelspec": {
   "display_name": "Python 3 (ipykernel)",
   "language": "python",
   "name": "python3"
  },
  "language_info": {
   "codemirror_mode": {
    "name": "ipython",
    "version": 3
   },
   "file_extension": ".py",
   "mimetype": "text/x-python",
   "name": "python",
   "nbconvert_exporter": "python",
   "pygments_lexer": "ipython3",
   "version": "3.11.3"
  }
 },
 "nbformat": 4,
 "nbformat_minor": 5
}
