{
 "cells": [
  {
   "cell_type": "code",
   "execution_count": 83,
   "id": "c9247ad6",
   "metadata": {},
   "outputs": [
    {
     "ename": "AttributeError",
     "evalue": "'str' object has no attribute 'close'",
     "output_type": "error",
     "traceback": [
      "\u001b[1;31m---------------------------------------------------------------------------\u001b[0m",
      "\u001b[1;31mAttributeError\u001b[0m                            Traceback (most recent call last)",
      "Cell \u001b[1;32mIn[83], line 4\u001b[0m\n\u001b[0;32m      2\u001b[0m data  \u001b[38;5;241m=\u001b[39m file\u001b[38;5;241m.\u001b[39mread()\n\u001b[0;32m      3\u001b[0m data\n\u001b[1;32m----> 4\u001b[0m \u001b[43mdata\u001b[49m\u001b[38;5;241;43m.\u001b[39;49m\u001b[43mclose\u001b[49m()\n",
      "\u001b[1;31mAttributeError\u001b[0m: 'str' object has no attribute 'close'"
     ]
    }
   ],
   "source": [
    "file = open(\"C:/Users/BAPS/Desktop/student_data.txt\",\"r\")\n",
    "data  = file.read()\n",
    "data"
   ]
  },
  {
   "cell_type": "code",
   "execution_count": 9,
   "id": "8e494331",
   "metadata": {},
   "outputs": [
    {
     "data": {
      "text/plain": [
       "['name\\troll\\tmath\\tsci\\teng',\n",
       " 'Grras\\t1\\t86\\t87\\t85',\n",
       " 'Ahsan\\t2\\t91\\t89\\t87',\n",
       " 'Nirav\\t3\\t89\\t78\\t96',\n",
       " 'Mihir\\t4\\t89\\t85\\t79',\n",
       " 'Abhay\\t5\\t89\\t74\\t85',\n",
       " 'Vimal\\t6\\t87\\t85\\t94',\n",
       " 'Dixit\\t7\\t75\\t85\\t89',\n",
       " 'Dhruv\\t8\\t85\\t74\\t74',\n",
       " 'Prince\\t9\\t68\\t78\\t91',\n",
       " 'Anjali\\t10\\t78\\t58\\t67',\n",
       " '',\n",
       " '']"
      ]
     },
     "execution_count": 9,
     "metadata": {},
     "output_type": "execute_result"
    }
   ],
   "source": [
    "d = data.split(\"\\n\")\n",
    "d"
   ]
  },
  {
   "cell_type": "code",
   "execution_count": 10,
   "id": "4aa9f720",
   "metadata": {},
   "outputs": [
    {
     "data": {
      "text/plain": [
       "['name\\troll\\tmath\\tsci\\teng',\n",
       " 'Grras\\t1\\t86\\t87\\t85',\n",
       " 'Ahsan\\t2\\t91\\t89\\t87',\n",
       " 'Nirav\\t3\\t89\\t78\\t96',\n",
       " 'Mihir\\t4\\t89\\t85\\t79',\n",
       " 'Abhay\\t5\\t89\\t74\\t85',\n",
       " 'Vimal\\t6\\t87\\t85\\t94',\n",
       " 'Dixit\\t7\\t75\\t85\\t89',\n",
       " 'Dhruv\\t8\\t85\\t74\\t74',\n",
       " 'Prince\\t9\\t68\\t78\\t91',\n",
       " 'Anjali\\t10\\t78\\t58\\t67',\n",
       " '']"
      ]
     },
     "execution_count": 10,
     "metadata": {},
     "output_type": "execute_result"
    }
   ],
   "source": [
    "d.pop()\n",
    "d"
   ]
  },
  {
   "cell_type": "code",
   "execution_count": 11,
   "id": "d55f29fa",
   "metadata": {},
   "outputs": [
    {
     "data": {
      "text/plain": [
       "['name\\troll\\tmath\\tsci\\teng',\n",
       " 'Grras\\t1\\t86\\t87\\t85',\n",
       " 'Ahsan\\t2\\t91\\t89\\t87',\n",
       " 'Nirav\\t3\\t89\\t78\\t96',\n",
       " 'Mihir\\t4\\t89\\t85\\t79',\n",
       " 'Abhay\\t5\\t89\\t74\\t85',\n",
       " 'Vimal\\t6\\t87\\t85\\t94',\n",
       " 'Dixit\\t7\\t75\\t85\\t89',\n",
       " 'Dhruv\\t8\\t85\\t74\\t74',\n",
       " 'Prince\\t9\\t68\\t78\\t91',\n",
       " 'Anjali\\t10\\t78\\t58\\t67']"
      ]
     },
     "execution_count": 11,
     "metadata": {},
     "output_type": "execute_result"
    }
   ],
   "source": [
    "d.pop()\n",
    "d"
   ]
  },
  {
   "cell_type": "code",
   "execution_count": 12,
   "id": "16aa3917",
   "metadata": {},
   "outputs": [
    {
     "data": {
      "text/plain": [
       "'name\\troll\\tmath\\tsci\\teng'"
      ]
     },
     "execution_count": 12,
     "metadata": {},
     "output_type": "execute_result"
    }
   ],
   "source": [
    "d[0]"
   ]
  },
  {
   "cell_type": "code",
   "execution_count": 80,
   "id": "f1e91fc6",
   "metadata": {},
   "outputs": [
    {
     "name": "stdout",
     "output_type": "stream",
     "text": [
      "['Grras', '1', '86', '87', '85', '258']\n",
      "['Ahsan', '2', '91', '89', '87', '267']\n",
      "['Nirav', '3', '89', '78', '96', '263']\n",
      "['Mihir', '4', '89', '85', '79', '253']\n",
      "['Abhay', '5', '89', '74', '85', '248']\n",
      "['Vimal', '6', '87', '85', '94', '266']\n",
      "['Dixit', '7', '75', '85', '89', '249']\n",
      "['Dhruv', '8', '85', '74', '74', '233']\n",
      "['Prince', '9', '68', '78', '91', '237']\n",
      "['Anjali', '10', '78', '58', '67', '203']\n"
     ]
    }
   ],
   "source": [
    "result = []\n",
    "for i in d[1:]:\n",
    "#     print(i)\n",
    "    sp = i.split(\"\\t\")\n",
    "#     print(sp)\n",
    "    total = str(sum(map(int,sp[2:])))\n",
    "#     print(total)\n",
    "    sp.append(total)\n",
    "    print(sp)\n",
    "    result.append(sp)"
   ]
  },
  {
   "cell_type": "code",
   "execution_count": 28,
   "id": "16d23048",
   "metadata": {},
   "outputs": [
    {
     "name": "stdout",
     "output_type": "stream",
     "text": [
      "[['Grras', '1', '86', '87', '85', '258'], ['Ahsan', '2', '91', '89', '87', '267'], ['Nirav', '3', '89', '78', '96', '263'], ['Mihir', '4', '89', '85', '79', '253'], ['Abhay', '5', '89', '74', '85', '248'], ['Vimal', '6', '87', '85', '94', '266'], ['Dixit', '7', '75', '85', '89', '249'], ['Dhruv', '8', '85', '74', '74', '233'], ['Prince', '9', '68', '78', '91', '237'], ['Anjali', '10', '78', '58', '67', '203']]\n"
     ]
    }
   ],
   "source": [
    "print(result)"
   ]
  },
  {
   "cell_type": "code",
   "execution_count": 36,
   "id": "bac6b3db",
   "metadata": {},
   "outputs": [
    {
     "name": "stdout",
     "output_type": "stream",
     "text": [
      "Grras\t1\t86\t87\t85\t258\n",
      "Ahsan\t2\t91\t89\t87\t267\n",
      "Nirav\t3\t89\t78\t96\t263\n",
      "Mihir\t4\t89\t85\t79\t253\n",
      "Abhay\t5\t89\t74\t85\t248\n",
      "Vimal\t6\t87\t85\t94\t266\n",
      "Dixit\t7\t75\t85\t89\t249\n",
      "Dhruv\t8\t85\t74\t74\t233\n",
      "Prince\t9\t68\t78\t91\t237\n",
      "Anjali\t10\t78\t58\t67\t203\n"
     ]
    }
   ],
   "source": [
    "r=''\n",
    "for i in result:\n",
    "#     print(i)\n",
    "    i = \"\\t\".join(i)\n",
    "    print(i)\n",
    "    r +=i+\"\\n\""
   ]
  },
  {
   "cell_type": "code",
   "execution_count": 37,
   "id": "3803e5c4",
   "metadata": {},
   "outputs": [
    {
     "name": "stdout",
     "output_type": "stream",
     "text": [
      "Grras\t1\t86\t87\t85\t258\n",
      "Ahsan\t2\t91\t89\t87\t267\n",
      "Nirav\t3\t89\t78\t96\t263\n",
      "Mihir\t4\t89\t85\t79\t253\n",
      "Abhay\t5\t89\t74\t85\t248\n",
      "Vimal\t6\t87\t85\t94\t266\n",
      "Dixit\t7\t75\t85\t89\t249\n",
      "Dhruv\t8\t85\t74\t74\t233\n",
      "Prince\t9\t68\t78\t91\t237\n",
      "Anjali\t10\t78\t58\t67\t203\n",
      "\n"
     ]
    }
   ],
   "source": [
    "print(r)"
   ]
  },
  {
   "cell_type": "code",
   "execution_count": 38,
   "id": "50765e52",
   "metadata": {},
   "outputs": [
    {
     "name": "stdout",
     "output_type": "stream",
     "text": [
      "name\troll\tmath\tsci\tengGrras\t1\t86\t87\t85\t258\n",
      "Ahsan\t2\t91\t89\t87\t267\n",
      "Nirav\t3\t89\t78\t96\t263\n",
      "Mihir\t4\t89\t85\t79\t253\n",
      "Abhay\t5\t89\t74\t85\t248\n",
      "Vimal\t6\t87\t85\t94\t266\n",
      "Dixit\t7\t75\t85\t89\t249\n",
      "Dhruv\t8\t85\t74\t74\t233\n",
      "Prince\t9\t68\t78\t91\t237\n",
      "Anjali\t10\t78\t58\t67\t203\n",
      "\n"
     ]
    }
   ],
   "source": [
    "print(d[0]+r)"
   ]
  },
  {
   "cell_type": "code",
   "execution_count": 39,
   "id": "8f57802b",
   "metadata": {},
   "outputs": [
    {
     "data": {
      "text/plain": [
       "'name\\troll\\tmath\\tsci\\teng\\tTotal\\n'"
      ]
     },
     "execution_count": 39,
     "metadata": {},
     "output_type": "execute_result"
    }
   ],
   "source": [
    "head = d[0]+\"\\tTotal\\n\""
   ]
  },
  {
   "cell_type": "code",
   "execution_count": 52,
   "id": "3291ab51",
   "metadata": {},
   "outputs": [
    {
     "name": "stdout",
     "output_type": "stream",
     "text": [
      "name\troll\tmath\tsci\teng\tTotal\n",
      "Grras\t1\t86\t87\t85\t258\n",
      "Ahsan\t2\t91\t89\t87\t267\n",
      "Nirav\t3\t89\t78\t96\t263\n",
      "Mihir\t4\t89\t85\t79\t253\n",
      "Abhay\t5\t89\t74\t85\t248\n",
      "Vimal\t6\t87\t85\t94\t266\n",
      "Dixit\t7\t75\t85\t89\t249\n",
      "Dhruv\t8\t85\t74\t74\t233\n",
      "Prince\t9\t68\t78\t91\t237\n",
      "Anjali\t10\t78\t58\t67\t203\n",
      "\n"
     ]
    }
   ],
   "source": [
    "dataa = head+r\n",
    "print(dataa)"
   ]
  },
  {
   "cell_type": "code",
   "execution_count": 90,
   "id": "d13eea74",
   "metadata": {},
   "outputs": [
    {
     "data": {
      "text/plain": [
       "''"
      ]
     },
     "execution_count": 90,
     "metadata": {},
     "output_type": "execute_result"
    }
   ],
   "source": [
    "dataa\n",
    "f = dataa.split(\"\\n\")\n",
    "f\n",
    "f.pop()\n"
   ]
  },
  {
   "cell_type": "code",
   "execution_count": 91,
   "id": "3f2e8e28",
   "metadata": {},
   "outputs": [
    {
     "data": {
      "text/plain": [
       "'name\\troll\\tmath\\tsci\\teng\\tTotal'"
      ]
     },
     "execution_count": 91,
     "metadata": {},
     "output_type": "execute_result"
    }
   ],
   "source": [
    "f[0]"
   ]
  },
  {
   "cell_type": "code",
   "execution_count": 109,
   "id": "221e68b2",
   "metadata": {},
   "outputs": [],
   "source": [
    "percentage = []\n",
    "for i in f[1:]:\n",
    "#     print(i)\n",
    "    ip = i.split(\"\\t\")\n",
    "    per = str(round(sum(map(int,ip[2:5]))*100/300))\n",
    "#     print(per)\n",
    "    ip.append(per+\"%\")\n",
    "    percentage.append(ip)\n",
    "   \n",
    "    "
   ]
  },
  {
   "cell_type": "code",
   "execution_count": 110,
   "id": "6326940e",
   "metadata": {},
   "outputs": [
    {
     "name": "stdout",
     "output_type": "stream",
     "text": [
      "[['Grras', '1', '86', '87', '85', '258', '86%'], ['Ahsan', '2', '91', '89', '87', '267', '89%'], ['Nirav', '3', '89', '78', '96', '263', '88%'], ['Mihir', '4', '89', '85', '79', '253', '84%'], ['Abhay', '5', '89', '74', '85', '248', '83%'], ['Vimal', '6', '87', '85', '94', '266', '89%'], ['Dixit', '7', '75', '85', '89', '249', '83%'], ['Dhruv', '8', '85', '74', '74', '233', '78%'], ['Prince', '9', '68', '78', '91', '237', '79%'], ['Anjali', '10', '78', '58', '67', '203', '68%']]\n"
     ]
    }
   ],
   "source": [
    " print(percentage)"
   ]
  },
  {
   "cell_type": "code",
   "execution_count": 113,
   "id": "62a2f7b2",
   "metadata": {},
   "outputs": [
    {
     "name": "stdout",
     "output_type": "stream",
     "text": [
      "Grras\t1\t86\t87\t85\t258\t86%\n",
      "Ahsan\t2\t91\t89\t87\t267\t89%\n",
      "Nirav\t3\t89\t78\t96\t263\t88%\n",
      "Mihir\t4\t89\t85\t79\t253\t84%\n",
      "Abhay\t5\t89\t74\t85\t248\t83%\n",
      "Vimal\t6\t87\t85\t94\t266\t89%\n",
      "Dixit\t7\t75\t85\t89\t249\t83%\n",
      "Dhruv\t8\t85\t74\t74\t233\t78%\n",
      "Prince\t9\t68\t78\t91\t237\t79%\n",
      "Anjali\t10\t78\t58\t67\t203\t68%\n"
     ]
    }
   ],
   "source": [
    "p = ''\n",
    "for i in percentage:\n",
    "#     print(i)\n",
    "    i = \"\\t\".join(i)\n",
    "    print(i)\n",
    "    p += i+\"\\n\"\n",
    "    "
   ]
  },
  {
   "cell_type": "code",
   "execution_count": 114,
   "id": "9390c4da",
   "metadata": {},
   "outputs": [
    {
     "name": "stdout",
     "output_type": "stream",
     "text": [
      "Grras\t1\t86\t87\t85\t258\t86%\n",
      "Ahsan\t2\t91\t89\t87\t267\t89%\n",
      "Nirav\t3\t89\t78\t96\t263\t88%\n",
      "Mihir\t4\t89\t85\t79\t253\t84%\n",
      "Abhay\t5\t89\t74\t85\t248\t83%\n",
      "Vimal\t6\t87\t85\t94\t266\t89%\n",
      "Dixit\t7\t75\t85\t89\t249\t83%\n",
      "Dhruv\t8\t85\t74\t74\t233\t78%\n",
      "Prince\t9\t68\t78\t91\t237\t79%\n",
      "Anjali\t10\t78\t58\t67\t203\t68%\n",
      "\n"
     ]
    }
   ],
   "source": [
    "print(p)"
   ]
  },
  {
   "cell_type": "code",
   "execution_count": 115,
   "id": "61b40634",
   "metadata": {},
   "outputs": [
    {
     "name": "stdout",
     "output_type": "stream",
     "text": [
      "name\troll\tmath\tsci\teng\tTotalGrras\t1\t86\t87\t85\t258\t86%\n",
      "Ahsan\t2\t91\t89\t87\t267\t89%\n",
      "Nirav\t3\t89\t78\t96\t263\t88%\n",
      "Mihir\t4\t89\t85\t79\t253\t84%\n",
      "Abhay\t5\t89\t74\t85\t248\t83%\n",
      "Vimal\t6\t87\t85\t94\t266\t89%\n",
      "Dixit\t7\t75\t85\t89\t249\t83%\n",
      "Dhruv\t8\t85\t74\t74\t233\t78%\n",
      "Prince\t9\t68\t78\t91\t237\t79%\n",
      "Anjali\t10\t78\t58\t67\t203\t68%\n",
      "\n"
     ]
    }
   ],
   "source": [
    "print(f[0]+p)"
   ]
  },
  {
   "cell_type": "code",
   "execution_count": 116,
   "id": "ea85aa41",
   "metadata": {},
   "outputs": [
    {
     "data": {
      "text/plain": [
       "'name\\troll\\tmath\\tsci\\teng\\tTotal\\tPercentages\\n'"
      ]
     },
     "execution_count": 116,
     "metadata": {},
     "output_type": "execute_result"
    }
   ],
   "source": [
    "head = f[0]+\"\\tPercentages\\n\"\n",
    "head"
   ]
  },
  {
   "cell_type": "code",
   "execution_count": 117,
   "id": "d48ab65e",
   "metadata": {},
   "outputs": [
    {
     "name": "stdout",
     "output_type": "stream",
     "text": [
      "name\troll\tmath\tsci\teng\tTotal\tPercentages\n",
      "Grras\t1\t86\t87\t85\t258\t86%\n",
      "Ahsan\t2\t91\t89\t87\t267\t89%\n",
      "Nirav\t3\t89\t78\t96\t263\t88%\n",
      "Mihir\t4\t89\t85\t79\t253\t84%\n",
      "Abhay\t5\t89\t74\t85\t248\t83%\n",
      "Vimal\t6\t87\t85\t94\t266\t89%\n",
      "Dixit\t7\t75\t85\t89\t249\t83%\n",
      "Dhruv\t8\t85\t74\t74\t233\t78%\n",
      "Prince\t9\t68\t78\t91\t237\t79%\n",
      "Anjali\t10\t78\t58\t67\t203\t68%\n",
      "\n"
     ]
    }
   ],
   "source": [
    "dataa = head+p\n",
    "print(dataa)"
   ]
  },
  {
   "cell_type": "code",
   "execution_count": 118,
   "id": "80179c05",
   "metadata": {},
   "outputs": [
    {
     "name": "stdout",
     "output_type": "stream",
     "text": [
      "['name\\troll\\tmath\\tsci\\teng\\tTotal\\tPercentages', 'Grras\\t1\\t86\\t87\\t85\\t258\\t86%', 'Ahsan\\t2\\t91\\t89\\t87\\t267\\t89%', 'Nirav\\t3\\t89\\t78\\t96\\t263\\t88%', 'Mihir\\t4\\t89\\t85\\t79\\t253\\t84%', 'Abhay\\t5\\t89\\t74\\t85\\t248\\t83%', 'Vimal\\t6\\t87\\t85\\t94\\t266\\t89%', 'Dixit\\t7\\t75\\t85\\t89\\t249\\t83%', 'Dhruv\\t8\\t85\\t74\\t74\\t233\\t78%', 'Prince\\t9\\t68\\t78\\t91\\t237\\t79%', 'Anjali\\t10\\t78\\t58\\t67\\t203\\t68%', '']\n"
     ]
    }
   ],
   "source": [
    "a = dataa.split(\"\\n\")\n",
    "print(a)"
   ]
  },
  {
   "cell_type": "code",
   "execution_count": 125,
   "id": "6fc6cafd",
   "metadata": {},
   "outputs": [
    {
     "name": "stdout",
     "output_type": "stream",
     "text": [
      "Enter Roll No. :\n",
      "Enter Your Name :vimal\n",
      "name\troll\tmath\tsci\teng\tTotal\tPercentages\n",
      "Vimal\t6\t87\t85\t94\t266\t89%\n"
     ]
    },
    {
     "ename": "IndexError",
     "evalue": "list index out of range",
     "output_type": "error",
     "traceback": [
      "\u001b[1;31m---------------------------------------------------------------------------\u001b[0m",
      "\u001b[1;31mIndexError\u001b[0m                                Traceback (most recent call last)",
      "Cell \u001b[1;32mIn[125], line 8\u001b[0m\n\u001b[0;32m      6\u001b[0m     sp \u001b[38;5;241m=\u001b[39m i\u001b[38;5;241m.\u001b[39msplit(\u001b[38;5;124m\"\u001b[39m\u001b[38;5;130;01m\\t\u001b[39;00m\u001b[38;5;124m\"\u001b[39m)\n\u001b[0;32m      7\u001b[0m \u001b[38;5;66;03m#     print(sp)\u001b[39;00m\n\u001b[1;32m----> 8\u001b[0m     \u001b[38;5;28;01mif\u001b[39;00m roll \u001b[38;5;241m==\u001b[39m \u001b[43msp\u001b[49m\u001b[43m[\u001b[49m\u001b[38;5;241;43m1\u001b[39;49m\u001b[43m]\u001b[49m \u001b[38;5;129;01mor\u001b[39;00m name \u001b[38;5;241m==\u001b[39m sp[\u001b[38;5;241m0\u001b[39m]:\n\u001b[0;32m      9\u001b[0m         \u001b[38;5;28mprint\u001b[39m(a[\u001b[38;5;241m0\u001b[39m])\n\u001b[0;32m     10\u001b[0m         \u001b[38;5;28mprint\u001b[39m(i)\n",
      "\u001b[1;31mIndexError\u001b[0m: list index out of range"
     ]
    }
   ],
   "source": [
    "roll = input(\"Enter Roll No. :\")\n",
    "name = input(\"Enter Your Name :\").capitalize()\n",
    "\n",
    "for i in a:\n",
    "#     print(i)\n",
    "    sp = i.split(\"\\t\")\n",
    "#     print(sp)\n",
    "    if roll == sp[1] or name == sp[0]:\n",
    "        print(a[0])\n",
    "        print(i)\n",
    "    "
   ]
  },
  {
   "cell_type": "code",
   "execution_count": null,
   "id": "989e3ef7",
   "metadata": {},
   "outputs": [],
   "source": []
  }
 ],
 "metadata": {
  "kernelspec": {
   "display_name": "Python 3 (ipykernel)",
   "language": "python",
   "name": "python3"
  },
  "language_info": {
   "codemirror_mode": {
    "name": "ipython",
    "version": 3
   },
   "file_extension": ".py",
   "mimetype": "text/x-python",
   "name": "python",
   "nbconvert_exporter": "python",
   "pygments_lexer": "ipython3",
   "version": "3.11.3"
  }
 },
 "nbformat": 4,
 "nbformat_minor": 5
}
