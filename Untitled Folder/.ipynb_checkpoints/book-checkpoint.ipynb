{
 "cells": [
  {
   "cell_type": "code",
   "execution_count": 2,
   "id": "459cb065",
   "metadata": {},
   "outputs": [
    {
     "data": {
      "text/plain": [
       "str"
      ]
     },
     "execution_count": 2,
     "metadata": {},
     "output_type": "execute_result"
    }
   ],
   "source": [
    "file = open(\"C:\\\\Users\\\\BAPS\\\\Desktop\\\\Book1.txt\",\"r\")\n",
    "data = file.read()\n",
    "data\n",
    "type(data)"
   ]
  },
  {
   "cell_type": "code",
   "execution_count": 3,
   "id": "b839f27a",
   "metadata": {},
   "outputs": [
    {
     "data": {
      "text/plain": [
       "['1::Vimal::M::Nikol::10::1000::Y',\n",
       " '2::Nayan::M::Nikol::12::2000::Y',\n",
       " '3::Sunil::M::Uttamnagra::12::2000::N',\n",
       " '4::Navneet::M::Uttamnagar::11::1500::N',\n",
       " '5::Vaishali::F::Bapunagar::9::500::Y',\n",
       " '6::Keval::M::New Nikol::8::500::Y',\n",
       " '7::Shweta::F::Khodiyarnagar::10::1000::N',\n",
       " '8::Radhika::F::Parvala::9::500::N',\n",
       " '9::Yashvi::F::Viratnagar::8::500::N',\n",
       " '10::Helly::F::Viratnagar::11::1500::Y',\n",
       " '11::Kirti::F::Nikol::11::1500::Y',\n",
       " '12::Dax::M::Nikol::12::2000::Y',\n",
       " '']"
      ]
     },
     "execution_count": 3,
     "metadata": {},
     "output_type": "execute_result"
    }
   ],
   "source": [
    "book = data.split('\\n')\n",
    "book"
   ]
  },
  {
   "cell_type": "code",
   "execution_count": 4,
   "id": "9d6a6918",
   "metadata": {},
   "outputs": [
    {
     "data": {
      "text/plain": [
       "list"
      ]
     },
     "execution_count": 4,
     "metadata": {},
     "output_type": "execute_result"
    }
   ],
   "source": [
    "type(book)"
   ]
  },
  {
   "cell_type": "code",
   "execution_count": 5,
   "id": "b8990273",
   "metadata": {},
   "outputs": [
    {
     "data": {
      "text/plain": [
       "''"
      ]
     },
     "execution_count": 5,
     "metadata": {},
     "output_type": "execute_result"
    }
   ],
   "source": [
    "book\n",
    "book.pop()"
   ]
  },
  {
   "cell_type": "code",
   "execution_count": 12,
   "id": "f33edc85",
   "metadata": {},
   "outputs": [
    {
     "data": {
      "text/plain": [
       "['1::Vimal::M::Nikol::10::1000::Y',\n",
       " '2::Nayan::M::Nikol::12::2000::Y',\n",
       " '3::Sunil::M::Uttamnagra::12::2000::N',\n",
       " '4::Navneet::M::Uttamnagar::11::1500::N',\n",
       " '5::Vaishali::F::Bapunagar::9::500::Y',\n",
       " '6::Keval::M::New Nikol::8::500::Y',\n",
       " '7::Shweta::F::Khodiyarnagar::10::1000::N',\n",
       " '8::Radhika::F::Parvala::9::500::N',\n",
       " '9::Yashvi::F::Viratnagar::8::500::N',\n",
       " '10::Helly::F::Viratnagar::11::1500::Y',\n",
       " '11::Kirti::F::Nikol::11::1500::Y',\n",
       " '12::Dax::M::Nikol::12::2000::Y']"
      ]
     },
     "execution_count": 12,
     "metadata": {},
     "output_type": "execute_result"
    }
   ],
   "source": [
    "book"
   ]
  },
  {
   "cell_type": "code",
   "execution_count": 6,
   "id": "2977795a",
   "metadata": {},
   "outputs": [
    {
     "name": "stdout",
     "output_type": "stream",
     "text": [
      "Enter Your Standard :12\n",
      "2::Nayan::M::Nikol::12::2000::Y\n",
      "3::Sunil::M::Uttamnagra::12::2000::N\n",
      "12::Dax::M::Nikol::12::2000::Y\n"
     ]
    }
   ],
   "source": [
    "std = input(\"Enter Your Standard :\")\n",
    "for i in book:\n",
    "#     print(i)\n",
    "    s = i.split('::')\n",
    "#     print(s[4])    \n",
    "    if std == s[4] :\n",
    "        print(i)"
   ]
  },
  {
   "cell_type": "code",
   "execution_count": 7,
   "id": "8a796378",
   "metadata": {},
   "outputs": [
    {
     "name": "stdout",
     "output_type": "stream",
     "text": [
      "Enter Your Standard :11\n",
      "Enter Your Regeister number : helly\n",
      " \n",
      " \n",
      " \n",
      " \n",
      " \n",
      " \n",
      " \n",
      " \n",
      " \n",
      " \n",
      " \n",
      " \n"
     ]
    }
   ],
   "source": [
    "std = input(\"Enter Your Standard :\")\n",
    "reg = input(\"Enter Your Regeister number : \")\n",
    "for i in book:\n",
    "#     print(i)\n",
    "    s = i.split('::')\n",
    "#     print(s[4])    \n",
    "    if std == s[4] and reg == s[0] :\n",
    "        print(i)\n",
    "    else :\n",
    "        print(' ')"
   ]
  },
  {
   "cell_type": "code",
   "execution_count": 8,
   "id": "420c2264",
   "metadata": {},
   "outputs": [
    {
     "name": "stdout",
     "output_type": "stream",
     "text": [
      "Enter Y/N :n\n",
      "enter Name: \n",
      "3 Sunil 2000\n",
      "4 Navneet 1500\n",
      "7 Shweta 1000\n",
      "8 Radhika 500\n",
      "9 Yashvi 500\n"
     ]
    }
   ],
   "source": [
    "paid = input(\"Enter Y/N :\").capitalize()\n",
    "fname = input(\"enter Name: \").capitalize()\n",
    "for i in book:\n",
    "#     print(i)\n",
    "    s = i.split('::')\n",
    "#     print(s[4])    \n",
    "    if paid == s[6] :\n",
    "        print(s[0], s[1], s[5])\n",
    "    if fname == s[1]:\n",
    "        prnit(i)"
   ]
  },
  {
   "cell_type": "code",
   "execution_count": 13,
   "id": "0f49081c",
   "metadata": {},
   "outputs": [
    {
     "name": "stdout",
     "output_type": "stream",
     "text": [
      "enter Name: navneet\n",
      "4::Navneet::M::Uttamnagar::11::1500::N\n"
     ]
    }
   ],
   "source": [
    "fname = input(\"enter Name: \").capitalize()\n",
    "for i in book:\n",
    "#     print(i)\n",
    "    s = i.split('::')\n",
    "#     print(s[4])    \n",
    "    if fname == s[1]:\n",
    "        print(i)"
   ]
  },
  {
   "cell_type": "code",
   "execution_count": 19,
   "id": "8b6ed0fb",
   "metadata": {},
   "outputs": [
    {
     "name": "stdout",
     "output_type": "stream",
     "text": [
      "Enter M / F  : f\n",
      "F Vaishali\n",
      "F Shweta\n",
      "F Radhika\n",
      "F Yashvi\n",
      "F Helly\n",
      "F Kirti\n"
     ]
    }
   ],
   "source": [
    "gender = input(\"Enter M / F  : \").capitalize()\n",
    "for i in book:\n",
    "#     print(i)\n",
    "    s = i.split('::')\n",
    "#     print(s[4])    \n",
    "    if gender == s[2]:\n",
    "        print(s[2], s[1])"
   ]
  },
  {
   "cell_type": "code",
   "execution_count": null,
   "id": "4f385f1b",
   "metadata": {},
   "outputs": [],
   "source": [
    "\n"
   ]
  }
 ],
 "metadata": {
  "kernelspec": {
   "display_name": "Python 3 (ipykernel)",
   "language": "python",
   "name": "python3"
  },
  "language_info": {
   "codemirror_mode": {
    "name": "ipython",
    "version": 3
   },
   "file_extension": ".py",
   "mimetype": "text/x-python",
   "name": "python",
   "nbconvert_exporter": "python",
   "pygments_lexer": "ipython3",
   "version": "3.11.3"
  }
 },
 "nbformat": 4,
 "nbformat_minor": 5
}
