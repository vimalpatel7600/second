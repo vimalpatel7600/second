{
 "cells": [
  {
   "cell_type": "code",
   "execution_count": 1,
   "id": "22406d2f",
   "metadata": {},
   "outputs": [
    {
     "data": {
      "text/plain": [
       "'name\\troll\\tmath\\tsci\\teng\\nGrras\\t1\\t86\\t87\\t85\\nAhsan\\t2\\t91\\t89\\t87\\nNirav\\t3\\t89\\t78\\t96\\nMihir\\t4\\t89\\t85\\t79\\nAbhay\\t5\\t89\\t74\\t85\\nVimal\\t6\\t87\\t85\\t94\\nDixit\\t7\\t75\\t85\\t89\\nDhruv\\t8\\t85\\t74\\t74\\nPrince\\t9\\t68\\t78\\t91\\nAnjali\\t10\\t78\\t58\\t67\\n\\n'"
      ]
     },
     "execution_count": 1,
     "metadata": {},
     "output_type": "execute_result"
    }
   ],
   "source": [
    "file = open(\"C:/Users/BAPS/Desktop/student_data.txt\",\"r\")\n",
    "data  = file.read()\n",
    "data"
   ]
  },
  {
   "cell_type": "code",
   "execution_count": 9,
   "id": "1af3ee46",
   "metadata": {},
   "outputs": [
    {
     "data": {
      "text/plain": [
       "['name\\troll\\tmath\\tsci\\teng',\n",
       " 'Grras\\t1\\t86\\t87\\t85',\n",
       " 'Ahsan\\t2\\t91\\t89\\t87',\n",
       " 'Nirav\\t3\\t89\\t78\\t96',\n",
       " 'Mihir\\t4\\t89\\t85\\t79',\n",
       " 'Abhay\\t5\\t89\\t74\\t85',\n",
       " 'Vimal\\t6\\t87\\t85\\t94',\n",
       " 'Dixit\\t7\\t75\\t85\\t89',\n",
       " 'Dhruv\\t8\\t85\\t74\\t74',\n",
       " 'Prince\\t9\\t68\\t78\\t91',\n",
       " 'Anjali\\t10\\t78\\t58\\t67',\n",
       " '',\n",
       " '']"
      ]
     },
     "execution_count": 9,
     "metadata": {},
     "output_type": "execute_result"
    }
   ],
   "source": [
    "d = data.split(\"\\n\")\n",
    "d"
   ]
  },
  {
   "cell_type": "code",
   "execution_count": 10,
   "id": "d2f3a6ce",
   "metadata": {},
   "outputs": [
    {
     "data": {
      "text/plain": [
       "['name\\troll\\tmath\\tsci\\teng',\n",
       " 'Grras\\t1\\t86\\t87\\t85',\n",
       " 'Ahsan\\t2\\t91\\t89\\t87',\n",
       " 'Nirav\\t3\\t89\\t78\\t96',\n",
       " 'Mihir\\t4\\t89\\t85\\t79',\n",
       " 'Abhay\\t5\\t89\\t74\\t85',\n",
       " 'Vimal\\t6\\t87\\t85\\t94',\n",
       " 'Dixit\\t7\\t75\\t85\\t89',\n",
       " 'Dhruv\\t8\\t85\\t74\\t74',\n",
       " 'Prince\\t9\\t68\\t78\\t91',\n",
       " 'Anjali\\t10\\t78\\t58\\t67',\n",
       " '']"
      ]
     },
     "execution_count": 10,
     "metadata": {},
     "output_type": "execute_result"
    }
   ],
   "source": [
    "d.pop()\n",
    "d"
   ]
  },
  {
   "cell_type": "code",
   "execution_count": 11,
   "id": "7ebedb06",
   "metadata": {},
   "outputs": [
    {
     "data": {
      "text/plain": [
       "['name\\troll\\tmath\\tsci\\teng',\n",
       " 'Grras\\t1\\t86\\t87\\t85',\n",
       " 'Ahsan\\t2\\t91\\t89\\t87',\n",
       " 'Nirav\\t3\\t89\\t78\\t96',\n",
       " 'Mihir\\t4\\t89\\t85\\t79',\n",
       " 'Abhay\\t5\\t89\\t74\\t85',\n",
       " 'Vimal\\t6\\t87\\t85\\t94',\n",
       " 'Dixit\\t7\\t75\\t85\\t89',\n",
       " 'Dhruv\\t8\\t85\\t74\\t74',\n",
       " 'Prince\\t9\\t68\\t78\\t91',\n",
       " 'Anjali\\t10\\t78\\t58\\t67']"
      ]
     },
     "execution_count": 11,
     "metadata": {},
     "output_type": "execute_result"
    }
   ],
   "source": [
    "d.pop()\n",
    "d"
   ]
  },
  {
   "cell_type": "code",
   "execution_count": 12,
   "id": "88d69034",
   "metadata": {},
   "outputs": [
    {
     "data": {
      "text/plain": [
       "'name\\troll\\tmath\\tsci\\teng'"
      ]
     },
     "execution_count": 12,
     "metadata": {},
     "output_type": "execute_result"
    }
   ],
   "source": [
    "d[0]"
   ]
  },
  {
   "cell_type": "code",
   "execution_count": 27,
   "id": "277613f3",
   "metadata": {},
   "outputs": [
    {
     "name": "stdout",
     "output_type": "stream",
     "text": [
      "['Grras', '1', '86', '87', '85', '258']\n",
      "['Ahsan', '2', '91', '89', '87', '267']\n",
      "['Nirav', '3', '89', '78', '96', '263']\n",
      "['Mihir', '4', '89', '85', '79', '253']\n",
      "['Abhay', '5', '89', '74', '85', '248']\n",
      "['Vimal', '6', '87', '85', '94', '266']\n",
      "['Dixit', '7', '75', '85', '89', '249']\n",
      "['Dhruv', '8', '85', '74', '74', '233']\n",
      "['Prince', '9', '68', '78', '91', '237']\n",
      "['Anjali', '10', '78', '58', '67', '203']\n"
     ]
    }
   ],
   "source": [
    "result = []\n",
    "for i in d[1:]:\n",
    "#     print(i)\n",
    "    sp = i.split(\"\\t\")\n",
    "#     print(sp)\n",
    "    total = str(sum(map(int,sp[2:])))\n",
    "#     print(total)\n",
    "    sp.append(total)\n",
    "    print(sp)\n",
    "    result.append(sp)"
   ]
  },
  {
   "cell_type": "code",
   "execution_count": 28,
   "id": "1a1ae328",
   "metadata": {},
   "outputs": [
    {
     "name": "stdout",
     "output_type": "stream",
     "text": [
      "[['Grras', '1', '86', '87', '85', '258'], ['Ahsan', '2', '91', '89', '87', '267'], ['Nirav', '3', '89', '78', '96', '263'], ['Mihir', '4', '89', '85', '79', '253'], ['Abhay', '5', '89', '74', '85', '248'], ['Vimal', '6', '87', '85', '94', '266'], ['Dixit', '7', '75', '85', '89', '249'], ['Dhruv', '8', '85', '74', '74', '233'], ['Prince', '9', '68', '78', '91', '237'], ['Anjali', '10', '78', '58', '67', '203']]\n"
     ]
    }
   ],
   "source": [
    "print(result)"
   ]
  },
  {
   "cell_type": "code",
   "execution_count": 36,
   "id": "5348eb46",
   "metadata": {},
   "outputs": [
    {
     "name": "stdout",
     "output_type": "stream",
     "text": [
      "Grras\t1\t86\t87\t85\t258\n",
      "Ahsan\t2\t91\t89\t87\t267\n",
      "Nirav\t3\t89\t78\t96\t263\n",
      "Mihir\t4\t89\t85\t79\t253\n",
      "Abhay\t5\t89\t74\t85\t248\n",
      "Vimal\t6\t87\t85\t94\t266\n",
      "Dixit\t7\t75\t85\t89\t249\n",
      "Dhruv\t8\t85\t74\t74\t233\n",
      "Prince\t9\t68\t78\t91\t237\n",
      "Anjali\t10\t78\t58\t67\t203\n"
     ]
    }
   ],
   "source": [
    "r=''\n",
    "for i in result:\n",
    "#     print(i)\n",
    "    i = \"\\t\".join(i)\n",
    "    print(i)\n",
    "    r +=i+\"\\n\""
   ]
  },
  {
   "cell_type": "code",
   "execution_count": 37,
   "id": "b574b2da",
   "metadata": {},
   "outputs": [
    {
     "name": "stdout",
     "output_type": "stream",
     "text": [
      "Grras\t1\t86\t87\t85\t258\n",
      "Ahsan\t2\t91\t89\t87\t267\n",
      "Nirav\t3\t89\t78\t96\t263\n",
      "Mihir\t4\t89\t85\t79\t253\n",
      "Abhay\t5\t89\t74\t85\t248\n",
      "Vimal\t6\t87\t85\t94\t266\n",
      "Dixit\t7\t75\t85\t89\t249\n",
      "Dhruv\t8\t85\t74\t74\t233\n",
      "Prince\t9\t68\t78\t91\t237\n",
      "Anjali\t10\t78\t58\t67\t203\n",
      "\n"
     ]
    }
   ],
   "source": [
    "print(r)"
   ]
  },
  {
   "cell_type": "code",
   "execution_count": 38,
   "id": "03b2f71f",
   "metadata": {},
   "outputs": [
    {
     "name": "stdout",
     "output_type": "stream",
     "text": [
      "name\troll\tmath\tsci\tengGrras\t1\t86\t87\t85\t258\n",
      "Ahsan\t2\t91\t89\t87\t267\n",
      "Nirav\t3\t89\t78\t96\t263\n",
      "Mihir\t4\t89\t85\t79\t253\n",
      "Abhay\t5\t89\t74\t85\t248\n",
      "Vimal\t6\t87\t85\t94\t266\n",
      "Dixit\t7\t75\t85\t89\t249\n",
      "Dhruv\t8\t85\t74\t74\t233\n",
      "Prince\t9\t68\t78\t91\t237\n",
      "Anjali\t10\t78\t58\t67\t203\n",
      "\n"
     ]
    }
   ],
   "source": [
    "print(d[0]+r)"
   ]
  },
  {
   "cell_type": "code",
   "execution_count": 39,
   "id": "dd2d6763",
   "metadata": {},
   "outputs": [
    {
     "data": {
      "text/plain": [
       "'name\\troll\\tmath\\tsci\\teng\\tTotal\\n'"
      ]
     },
     "execution_count": 39,
     "metadata": {},
     "output_type": "execute_result"
    }
   ],
   "source": [
    "head = d[0]+\"\\tTotal\\n\""
   ]
  },
  {
   "cell_type": "code",
   "execution_count": 52,
   "id": "6cc2b603",
   "metadata": {},
   "outputs": [
    {
     "name": "stdout",
     "output_type": "stream",
     "text": [
      "name\troll\tmath\tsci\teng\tTotal\n",
      "Grras\t1\t86\t87\t85\t258\n",
      "Ahsan\t2\t91\t89\t87\t267\n",
      "Nirav\t3\t89\t78\t96\t263\n",
      "Mihir\t4\t89\t85\t79\t253\n",
      "Abhay\t5\t89\t74\t85\t248\n",
      "Vimal\t6\t87\t85\t94\t266\n",
      "Dixit\t7\t75\t85\t89\t249\n",
      "Dhruv\t8\t85\t74\t74\t233\n",
      "Prince\t9\t68\t78\t91\t237\n",
      "Anjali\t10\t78\t58\t67\t203\n",
      "\n"
     ]
    }
   ],
   "source": [
    "dataa = head+r\n",
    "print(dataa)"
   ]
  },
  {
   "cell_type": "code",
   "execution_count": 46,
   "id": "945a1bf6",
   "metadata": {},
   "outputs": [
    {
     "data": {
      "text/plain": [
       "''"
      ]
     },
     "execution_count": 46,
     "metadata": {},
     "output_type": "execute_result"
    }
   ],
   "source": [
    "dataa\n",
    "f = dataa.split(\"\\n\")\n",
    "f\n",
    "f.pop()\n"
   ]
  },
  {
   "cell_type": "code",
   "execution_count": 57,
   "id": "4e704d25",
   "metadata": {},
   "outputs": [
    {
     "name": "stdout",
     "output_type": "stream",
     "text": [
      "Enter Your Roll No. :10\n",
      "name\troll\tmath\tsci\teng\tTotal\n",
      "Anjali\t10\t78\t58\t67\t203\n"
     ]
    }
   ],
   "source": [
    "roll = input(\"Enter Your Roll No. :\")\n",
    "for i in f:\n",
    "    sp = i.split(\"\\t\")\n",
    "#     print(i)\n",
    "    if roll == sp[1]:\n",
    "        print(f[0])\n",
    "        print(i)"
   ]
  },
  {
   "cell_type": "code",
   "execution_count": null,
   "id": "d2451bb3",
   "metadata": {},
   "outputs": [],
   "source": []
  }
 ],
 "metadata": {
  "kernelspec": {
   "display_name": "Python 3 (ipykernel)",
   "language": "python",
   "name": "python3"
  },
  "language_info": {
   "codemirror_mode": {
    "name": "ipython",
    "version": 3
   },
   "file_extension": ".py",
   "mimetype": "text/x-python",
   "name": "python",
   "nbconvert_exporter": "python",
   "pygments_lexer": "ipython3",
   "version": "3.11.3"
  }
 },
 "nbformat": 4,
 "nbformat_minor": 5
}
