{
 "cells": [
  {
   "cell_type": "code",
   "execution_count": 21,
   "id": "8dd0ab50",
   "metadata": {},
   "outputs": [
    {
     "data": {
      "text/plain": [
       "'id\\tname\\tGender\\tstd\\tGuj.\\tHindi\\tEng.\\tEco.\\tSci.\\tMaths\\n1\\tVimal\\tM\\t10\\t80\\t89\\t88\\t78\\t85\\t86\\n2\\tNayan\\tM\\t9\\t89\\t82\\t85\\t87\\t80\\t80\\n3\\tVaishali\\tF\\t8\\t79\\t89\\t75\\t85\\t95\\t85\\n4\\tNavneet\\tM\\t10\\t85\\t79\\t75\\t89\\t73\\t83\\n5\\tSunil\\tM\\t9\\t75\\t78\\t71\\t82\\t91\\t93\\n6\\tSonali\\tF\\t8\\t95\\t76\\t82\\t73\\t81\\t94\\n7\\tBhoomi\\tF\\t8\\t85\\t84\\t92\\t73\\t81\\t95\\n8\\tShweta\\tF\\t7\\t89\\t80\\t99\\t98\\t97\\t95\\n9\\tRadhika\\tF\\t7\\t85\\t74\\t86\\t85\\t83\\t87\\n10\\tHelly\\tF\\t7\\t74\\t75\\t74\\t76\\t71\\t72\\n11\\tKirti\\tF\\t6\\t65\\t75\\t69\\t73\\t71\\t85\\n12\\tDax\\tM\\t6\\t65\\t85\\t64\\t75\\t75\\t71\\n13\\tYashvi\\tF\\t6\\t85\\t62\\t75\\t86\\t65\\t73\\n14\\tRishi\\tM\\t5\\t75\\t82\\t34\\t42\\t65\\t66\\n15\\tMeshva\\tF\\t5\\t75\\t75\\t85\\t66\\t67\\t62\\n\\t'"
      ]
     },
     "execution_count": 21,
     "metadata": {},
     "output_type": "execute_result"
    }
   ],
   "source": [
    "file = open(\"C:\\\\Users\\\\BAPS\\\\Desktop\\\\result.txt\",\"r\")\n",
    "data = file.read()\n",
    "data"
   ]
  },
  {
   "cell_type": "code",
   "execution_count": 22,
   "id": "d1e61499",
   "metadata": {},
   "outputs": [
    {
     "name": "stdout",
     "output_type": "stream",
     "text": [
      "id\tname\tGender\tstd\tGuj.\tHindi\tEng.\tEco.\tSci.\tMaths\n",
      "1\tVimal\tM\t10\t80\t89\t88\t78\t85\t86\n",
      "2\tNayan\tM\t9\t89\t82\t85\t87\t80\t80\n",
      "3\tVaishali\tF\t8\t79\t89\t75\t85\t95\t85\n",
      "4\tNavneet\tM\t10\t85\t79\t75\t89\t73\t83\n",
      "5\tSunil\tM\t9\t75\t78\t71\t82\t91\t93\n",
      "6\tSonali\tF\t8\t95\t76\t82\t73\t81\t94\n",
      "7\tBhoomi\tF\t8\t85\t84\t92\t73\t81\t95\n",
      "8\tShweta\tF\t7\t89\t80\t99\t98\t97\t95\n",
      "9\tRadhika\tF\t7\t85\t74\t86\t85\t83\t87\n",
      "10\tHelly\tF\t7\t74\t75\t74\t76\t71\t72\n",
      "11\tKirti\tF\t6\t65\t75\t69\t73\t71\t85\n",
      "12\tDax\tM\t6\t65\t85\t64\t75\t75\t71\n",
      "13\tYashvi\tF\t6\t85\t62\t75\t86\t65\t73\n",
      "14\tRishi\tM\t5\t75\t82\t34\t42\t65\t66\n",
      "15\tMeshva\tF\t5\t75\t75\t85\t66\t67\t62\n",
      "\t\n"
     ]
    }
   ],
   "source": [
    "print(data)"
   ]
  },
  {
   "cell_type": "code",
   "execution_count": 23,
   "id": "2fb69163",
   "metadata": {},
   "outputs": [
    {
     "data": {
      "text/plain": [
       "['id\\tname\\tGender\\tstd\\tGuj.\\tHindi\\tEng.\\tEco.\\tSci.\\tMaths',\n",
       " '1\\tVimal\\tM\\t10\\t80\\t89\\t88\\t78\\t85\\t86',\n",
       " '2\\tNayan\\tM\\t9\\t89\\t82\\t85\\t87\\t80\\t80',\n",
       " '3\\tVaishali\\tF\\t8\\t79\\t89\\t75\\t85\\t95\\t85',\n",
       " '4\\tNavneet\\tM\\t10\\t85\\t79\\t75\\t89\\t73\\t83',\n",
       " '5\\tSunil\\tM\\t9\\t75\\t78\\t71\\t82\\t91\\t93',\n",
       " '6\\tSonali\\tF\\t8\\t95\\t76\\t82\\t73\\t81\\t94',\n",
       " '7\\tBhoomi\\tF\\t8\\t85\\t84\\t92\\t73\\t81\\t95',\n",
       " '8\\tShweta\\tF\\t7\\t89\\t80\\t99\\t98\\t97\\t95',\n",
       " '9\\tRadhika\\tF\\t7\\t85\\t74\\t86\\t85\\t83\\t87',\n",
       " '10\\tHelly\\tF\\t7\\t74\\t75\\t74\\t76\\t71\\t72',\n",
       " '11\\tKirti\\tF\\t6\\t65\\t75\\t69\\t73\\t71\\t85',\n",
       " '12\\tDax\\tM\\t6\\t65\\t85\\t64\\t75\\t75\\t71',\n",
       " '13\\tYashvi\\tF\\t6\\t85\\t62\\t75\\t86\\t65\\t73',\n",
       " '14\\tRishi\\tM\\t5\\t75\\t82\\t34\\t42\\t65\\t66',\n",
       " '15\\tMeshva\\tF\\t5\\t75\\t75\\t85\\t66\\t67\\t62',\n",
       " '\\t']"
      ]
     },
     "execution_count": 23,
     "metadata": {},
     "output_type": "execute_result"
    }
   ],
   "source": [
    "dt = data.split(\"\\n\")\n",
    "dt"
   ]
  },
  {
   "cell_type": "code",
   "execution_count": 24,
   "id": "8783d939",
   "metadata": {},
   "outputs": [
    {
     "data": {
      "text/plain": [
       "['id\\tname\\tGender\\tstd\\tGuj.\\tHindi\\tEng.\\tEco.\\tSci.\\tMaths',\n",
       " '1\\tVimal\\tM\\t10\\t80\\t89\\t88\\t78\\t85\\t86',\n",
       " '2\\tNayan\\tM\\t9\\t89\\t82\\t85\\t87\\t80\\t80',\n",
       " '3\\tVaishali\\tF\\t8\\t79\\t89\\t75\\t85\\t95\\t85',\n",
       " '4\\tNavneet\\tM\\t10\\t85\\t79\\t75\\t89\\t73\\t83',\n",
       " '5\\tSunil\\tM\\t9\\t75\\t78\\t71\\t82\\t91\\t93',\n",
       " '6\\tSonali\\tF\\t8\\t95\\t76\\t82\\t73\\t81\\t94',\n",
       " '7\\tBhoomi\\tF\\t8\\t85\\t84\\t92\\t73\\t81\\t95',\n",
       " '8\\tShweta\\tF\\t7\\t89\\t80\\t99\\t98\\t97\\t95',\n",
       " '9\\tRadhika\\tF\\t7\\t85\\t74\\t86\\t85\\t83\\t87',\n",
       " '10\\tHelly\\tF\\t7\\t74\\t75\\t74\\t76\\t71\\t72',\n",
       " '11\\tKirti\\tF\\t6\\t65\\t75\\t69\\t73\\t71\\t85',\n",
       " '12\\tDax\\tM\\t6\\t65\\t85\\t64\\t75\\t75\\t71',\n",
       " '13\\tYashvi\\tF\\t6\\t85\\t62\\t75\\t86\\t65\\t73',\n",
       " '14\\tRishi\\tM\\t5\\t75\\t82\\t34\\t42\\t65\\t66',\n",
       " '15\\tMeshva\\tF\\t5\\t75\\t75\\t85\\t66\\t67\\t62']"
      ]
     },
     "execution_count": 24,
     "metadata": {},
     "output_type": "execute_result"
    }
   ],
   "source": [
    "dt.pop()\n",
    "dt"
   ]
  },
  {
   "cell_type": "code",
   "execution_count": 25,
   "id": "234b8fb8",
   "metadata": {},
   "outputs": [
    {
     "data": {
      "text/plain": [
       "'id\\tname\\tGender\\tstd\\tGuj.\\tHindi\\tEng.\\tEco.\\tSci.\\tMaths'"
      ]
     },
     "execution_count": 25,
     "metadata": {},
     "output_type": "execute_result"
    }
   ],
   "source": [
    "dt[0]"
   ]
  },
  {
   "cell_type": "code",
   "execution_count": 26,
   "id": "726e821d",
   "metadata": {},
   "outputs": [
    {
     "name": "stdout",
     "output_type": "stream",
     "text": [
      "[['1', 'Vimal', 'M', '10', '80', '89', '88', '78', '85', '86', '506'], ['2', 'Nayan', 'M', '9', '89', '82', '85', '87', '80', '80', '503'], ['3', 'Vaishali', 'F', '8', '79', '89', '75', '85', '95', '85', '508'], ['4', 'Navneet', 'M', '10', '85', '79', '75', '89', '73', '83', '484'], ['5', 'Sunil', 'M', '9', '75', '78', '71', '82', '91', '93', '490'], ['6', 'Sonali', 'F', '8', '95', '76', '82', '73', '81', '94', '501'], ['7', 'Bhoomi', 'F', '8', '85', '84', '92', '73', '81', '95', '510'], ['8', 'Shweta', 'F', '7', '89', '80', '99', '98', '97', '95', '558'], ['9', 'Radhika', 'F', '7', '85', '74', '86', '85', '83', '87', '500'], ['10', 'Helly', 'F', '7', '74', '75', '74', '76', '71', '72', '442'], ['11', 'Kirti', 'F', '6', '65', '75', '69', '73', '71', '85', '438'], ['12', 'Dax', 'M', '6', '65', '85', '64', '75', '75', '71', '435'], ['13', 'Yashvi', 'F', '6', '85', '62', '75', '86', '65', '73', '446'], ['14', 'Rishi', 'M', '5', '75', '82', '34', '42', '65', '66', '364'], ['15', 'Meshva', 'F', '5', '75', '75', '85', '66', '67', '62', '430']]\n"
     ]
    }
   ],
   "source": [
    "result = []\n",
    "for i in dt[1:]:\n",
    "    sp = i.split(\"\\t\")\n",
    "#     print(sp)\n",
    "    total = str(sum(map(int, sp[4:])))\n",
    "#     print(total)\n",
    "    t = str(total)\n",
    "#     print(t)\n",
    "    sp.append(total)\n",
    "#     print(sp)\n",
    "    result.append(sp)\n",
    "print(result)"
   ]
  },
  {
   "cell_type": "code",
   "execution_count": 27,
   "id": "68f31f73",
   "metadata": {},
   "outputs": [
    {
     "name": "stdout",
     "output_type": "stream",
     "text": [
      "1\tVimal\tM\t10\t80\t89\t88\t78\t85\t86\t506\n",
      "2\tNayan\tM\t9\t89\t82\t85\t87\t80\t80\t503\n",
      "3\tVaishali\tF\t8\t79\t89\t75\t85\t95\t85\t508\n",
      "4\tNavneet\tM\t10\t85\t79\t75\t89\t73\t83\t484\n",
      "5\tSunil\tM\t9\t75\t78\t71\t82\t91\t93\t490\n",
      "6\tSonali\tF\t8\t95\t76\t82\t73\t81\t94\t501\n",
      "7\tBhoomi\tF\t8\t85\t84\t92\t73\t81\t95\t510\n",
      "8\tShweta\tF\t7\t89\t80\t99\t98\t97\t95\t558\n",
      "9\tRadhika\tF\t7\t85\t74\t86\t85\t83\t87\t500\n",
      "10\tHelly\tF\t7\t74\t75\t74\t76\t71\t72\t442\n",
      "11\tKirti\tF\t6\t65\t75\t69\t73\t71\t85\t438\n",
      "12\tDax\tM\t6\t65\t85\t64\t75\t75\t71\t435\n",
      "13\tYashvi\tF\t6\t85\t62\t75\t86\t65\t73\t446\n",
      "14\tRishi\tM\t5\t75\t82\t34\t42\t65\t66\t364\n",
      "15\tMeshva\tF\t5\t75\t75\t85\t66\t67\t62\t430\n"
     ]
    }
   ],
   "source": [
    "r = ''\n",
    "for i in result:\n",
    "    i = \"\\t\".join(i)\n",
    "    print(i)\n",
    "    r +=i+\"\\n\""
   ]
  },
  {
   "cell_type": "code",
   "execution_count": 28,
   "id": "01d56c41",
   "metadata": {},
   "outputs": [
    {
     "name": "stdout",
     "output_type": "stream",
     "text": [
      "1\tVimal\tM\t10\t80\t89\t88\t78\t85\t86\t506\n",
      "2\tNayan\tM\t9\t89\t82\t85\t87\t80\t80\t503\n",
      "3\tVaishali\tF\t8\t79\t89\t75\t85\t95\t85\t508\n",
      "4\tNavneet\tM\t10\t85\t79\t75\t89\t73\t83\t484\n",
      "5\tSunil\tM\t9\t75\t78\t71\t82\t91\t93\t490\n",
      "6\tSonali\tF\t8\t95\t76\t82\t73\t81\t94\t501\n",
      "7\tBhoomi\tF\t8\t85\t84\t92\t73\t81\t95\t510\n",
      "8\tShweta\tF\t7\t89\t80\t99\t98\t97\t95\t558\n",
      "9\tRadhika\tF\t7\t85\t74\t86\t85\t83\t87\t500\n",
      "10\tHelly\tF\t7\t74\t75\t74\t76\t71\t72\t442\n",
      "11\tKirti\tF\t6\t65\t75\t69\t73\t71\t85\t438\n",
      "12\tDax\tM\t6\t65\t85\t64\t75\t75\t71\t435\n",
      "13\tYashvi\tF\t6\t85\t62\t75\t86\t65\t73\t446\n",
      "14\tRishi\tM\t5\t75\t82\t34\t42\t65\t66\t364\n",
      "15\tMeshva\tF\t5\t75\t75\t85\t66\t67\t62\t430\n",
      "\n"
     ]
    }
   ],
   "source": [
    "print(r)"
   ]
  },
  {
   "cell_type": "code",
   "execution_count": 29,
   "id": "d9662c7b",
   "metadata": {},
   "outputs": [
    {
     "name": "stdout",
     "output_type": "stream",
     "text": [
      "id\tname\tGender\tstd\tGuj.\tHindi\tEng.\tEco.\tSci.\tMaths1\tVimal\tM\t10\t80\t89\t88\t78\t85\t86\t506\n",
      "2\tNayan\tM\t9\t89\t82\t85\t87\t80\t80\t503\n",
      "3\tVaishali\tF\t8\t79\t89\t75\t85\t95\t85\t508\n",
      "4\tNavneet\tM\t10\t85\t79\t75\t89\t73\t83\t484\n",
      "5\tSunil\tM\t9\t75\t78\t71\t82\t91\t93\t490\n",
      "6\tSonali\tF\t8\t95\t76\t82\t73\t81\t94\t501\n",
      "7\tBhoomi\tF\t8\t85\t84\t92\t73\t81\t95\t510\n",
      "8\tShweta\tF\t7\t89\t80\t99\t98\t97\t95\t558\n",
      "9\tRadhika\tF\t7\t85\t74\t86\t85\t83\t87\t500\n",
      "10\tHelly\tF\t7\t74\t75\t74\t76\t71\t72\t442\n",
      "11\tKirti\tF\t6\t65\t75\t69\t73\t71\t85\t438\n",
      "12\tDax\tM\t6\t65\t85\t64\t75\t75\t71\t435\n",
      "13\tYashvi\tF\t6\t85\t62\t75\t86\t65\t73\t446\n",
      "14\tRishi\tM\t5\t75\t82\t34\t42\t65\t66\t364\n",
      "15\tMeshva\tF\t5\t75\t75\t85\t66\t67\t62\t430\n",
      "\n"
     ]
    }
   ],
   "source": [
    "print(dt[0]+r)"
   ]
  },
  {
   "cell_type": "code",
   "execution_count": 30,
   "id": "188df778",
   "metadata": {},
   "outputs": [
    {
     "name": "stdout",
     "output_type": "stream",
     "text": [
      "id\tname\tGender\tstd\tGuj.\tHindi\tEng.\tEco.\tSci.\tMaths\tTotal\n",
      "\n"
     ]
    }
   ],
   "source": [
    "head = dt[0]+\"\\tTotal\\n\"\n",
    "print(head)"
   ]
  },
  {
   "cell_type": "code",
   "execution_count": 31,
   "id": "47f642ed",
   "metadata": {},
   "outputs": [
    {
     "name": "stdout",
     "output_type": "stream",
     "text": [
      "id\tname\tGender\tstd\tGuj.\tHindi\tEng.\tEco.\tSci.\tMaths\tTotal\n",
      "1\tVimal\tM\t10\t80\t89\t88\t78\t85\t86\t506\n",
      "2\tNayan\tM\t9\t89\t82\t85\t87\t80\t80\t503\n",
      "3\tVaishali\tF\t8\t79\t89\t75\t85\t95\t85\t508\n",
      "4\tNavneet\tM\t10\t85\t79\t75\t89\t73\t83\t484\n",
      "5\tSunil\tM\t9\t75\t78\t71\t82\t91\t93\t490\n",
      "6\tSonali\tF\t8\t95\t76\t82\t73\t81\t94\t501\n",
      "7\tBhoomi\tF\t8\t85\t84\t92\t73\t81\t95\t510\n",
      "8\tShweta\tF\t7\t89\t80\t99\t98\t97\t95\t558\n",
      "9\tRadhika\tF\t7\t85\t74\t86\t85\t83\t87\t500\n",
      "10\tHelly\tF\t7\t74\t75\t74\t76\t71\t72\t442\n",
      "11\tKirti\tF\t6\t65\t75\t69\t73\t71\t85\t438\n",
      "12\tDax\tM\t6\t65\t85\t64\t75\t75\t71\t435\n",
      "13\tYashvi\tF\t6\t85\t62\t75\t86\t65\t73\t446\n",
      "14\tRishi\tM\t5\t75\t82\t34\t42\t65\t66\t364\n",
      "15\tMeshva\tF\t5\t75\t75\t85\t66\t67\t62\t430\n",
      "\n"
     ]
    }
   ],
   "source": [
    "dta = head + r\n",
    "print(dta)"
   ]
  },
  {
   "cell_type": "code",
   "execution_count": 32,
   "id": "833934c2",
   "metadata": {},
   "outputs": [
    {
     "data": {
      "text/plain": [
       "['id\\tname\\tGender\\tstd\\tGuj.\\tHindi\\tEng.\\tEco.\\tSci.\\tMaths\\tTotal',\n",
       " '1\\tVimal\\tM\\t10\\t80\\t89\\t88\\t78\\t85\\t86\\t506',\n",
       " '2\\tNayan\\tM\\t9\\t89\\t82\\t85\\t87\\t80\\t80\\t503',\n",
       " '3\\tVaishali\\tF\\t8\\t79\\t89\\t75\\t85\\t95\\t85\\t508',\n",
       " '4\\tNavneet\\tM\\t10\\t85\\t79\\t75\\t89\\t73\\t83\\t484',\n",
       " '5\\tSunil\\tM\\t9\\t75\\t78\\t71\\t82\\t91\\t93\\t490',\n",
       " '6\\tSonali\\tF\\t8\\t95\\t76\\t82\\t73\\t81\\t94\\t501',\n",
       " '7\\tBhoomi\\tF\\t8\\t85\\t84\\t92\\t73\\t81\\t95\\t510',\n",
       " '8\\tShweta\\tF\\t7\\t89\\t80\\t99\\t98\\t97\\t95\\t558',\n",
       " '9\\tRadhika\\tF\\t7\\t85\\t74\\t86\\t85\\t83\\t87\\t500',\n",
       " '10\\tHelly\\tF\\t7\\t74\\t75\\t74\\t76\\t71\\t72\\t442',\n",
       " '11\\tKirti\\tF\\t6\\t65\\t75\\t69\\t73\\t71\\t85\\t438',\n",
       " '12\\tDax\\tM\\t6\\t65\\t85\\t64\\t75\\t75\\t71\\t435',\n",
       " '13\\tYashvi\\tF\\t6\\t85\\t62\\t75\\t86\\t65\\t73\\t446',\n",
       " '14\\tRishi\\tM\\t5\\t75\\t82\\t34\\t42\\t65\\t66\\t364',\n",
       " '15\\tMeshva\\tF\\t5\\t75\\t75\\t85\\t66\\t67\\t62\\t430',\n",
       " '']"
      ]
     },
     "execution_count": 32,
     "metadata": {},
     "output_type": "execute_result"
    }
   ],
   "source": [
    "p = dta.split(\"\\n\")\n",
    "p"
   ]
  },
  {
   "cell_type": "code",
   "execution_count": 33,
   "id": "35dbc039",
   "metadata": {},
   "outputs": [
    {
     "data": {
      "text/plain": [
       "''"
      ]
     },
     "execution_count": 33,
     "metadata": {},
     "output_type": "execute_result"
    }
   ],
   "source": [
    "p.pop()"
   ]
  },
  {
   "cell_type": "code",
   "execution_count": 34,
   "id": "ed5bdd08",
   "metadata": {},
   "outputs": [
    {
     "name": "stdout",
     "output_type": "stream",
     "text": [
      "[['1', 'Vimal', 'M', '10', '80', '89', '88', '78', '85', '86', '506', '84'], ['2', 'Nayan', 'M', '9', '89', '82', '85', '87', '80', '80', '503', '84'], ['3', 'Vaishali', 'F', '8', '79', '89', '75', '85', '95', '85', '508', '85'], ['4', 'Navneet', 'M', '10', '85', '79', '75', '89', '73', '83', '484', '81'], ['5', 'Sunil', 'M', '9', '75', '78', '71', '82', '91', '93', '490', '82'], ['6', 'Sonali', 'F', '8', '95', '76', '82', '73', '81', '94', '501', '84'], ['7', 'Bhoomi', 'F', '8', '85', '84', '92', '73', '81', '95', '510', '85'], ['8', 'Shweta', 'F', '7', '89', '80', '99', '98', '97', '95', '558', '93'], ['9', 'Radhika', 'F', '7', '85', '74', '86', '85', '83', '87', '500', '83'], ['10', 'Helly', 'F', '7', '74', '75', '74', '76', '71', '72', '442', '74'], ['11', 'Kirti', 'F', '6', '65', '75', '69', '73', '71', '85', '438', '73'], ['12', 'Dax', 'M', '6', '65', '85', '64', '75', '75', '71', '435', '72'], ['13', 'Yashvi', 'F', '6', '85', '62', '75', '86', '65', '73', '446', '74'], ['14', 'Rishi', 'M', '5', '75', '82', '34', '42', '65', '66', '364', '61'], ['15', 'Meshva', 'F', '5', '75', '75', '85', '66', '67', '62', '430', '72']]\n"
     ]
    }
   ],
   "source": [
    "percentage = []\n",
    "for i in p[1:]:\n",
    "#     print(i)\n",
    "    sp = i.split(\"\\t\")\n",
    "#     print(sp)\n",
    "    per = str(round(sum(map(int,sp[10:]))/6))\n",
    "#     print(per)\n",
    "    sp.append(per)\n",
    "#     print(sp)\n",
    "    percentage.append(sp)\n",
    "print(percentage)\n"
   ]
  },
  {
   "cell_type": "code",
   "execution_count": 35,
   "id": "96499243",
   "metadata": {},
   "outputs": [
    {
     "name": "stdout",
     "output_type": "stream",
     "text": [
      "1\tVimal\tM\t10\t80\t89\t88\t78\t85\t86\t506\t84\n",
      "2\tNayan\tM\t9\t89\t82\t85\t87\t80\t80\t503\t84\n",
      "3\tVaishali\tF\t8\t79\t89\t75\t85\t95\t85\t508\t85\n",
      "4\tNavneet\tM\t10\t85\t79\t75\t89\t73\t83\t484\t81\n",
      "5\tSunil\tM\t9\t75\t78\t71\t82\t91\t93\t490\t82\n",
      "6\tSonali\tF\t8\t95\t76\t82\t73\t81\t94\t501\t84\n",
      "7\tBhoomi\tF\t8\t85\t84\t92\t73\t81\t95\t510\t85\n",
      "8\tShweta\tF\t7\t89\t80\t99\t98\t97\t95\t558\t93\n",
      "9\tRadhika\tF\t7\t85\t74\t86\t85\t83\t87\t500\t83\n",
      "10\tHelly\tF\t7\t74\t75\t74\t76\t71\t72\t442\t74\n",
      "11\tKirti\tF\t6\t65\t75\t69\t73\t71\t85\t438\t73\n",
      "12\tDax\tM\t6\t65\t85\t64\t75\t75\t71\t435\t72\n",
      "13\tYashvi\tF\t6\t85\t62\t75\t86\t65\t73\t446\t74\n",
      "14\tRishi\tM\t5\t75\t82\t34\t42\t65\t66\t364\t61\n",
      "15\tMeshva\tF\t5\t75\t75\t85\t66\t67\t62\t430\t72\n",
      "1\tVimal\tM\t10\t80\t89\t88\t78\t85\t86\t506\t84\n",
      "2\tNayan\tM\t9\t89\t82\t85\t87\t80\t80\t503\t84\n",
      "3\tVaishali\tF\t8\t79\t89\t75\t85\t95\t85\t508\t85\n",
      "4\tNavneet\tM\t10\t85\t79\t75\t89\t73\t83\t484\t81\n",
      "5\tSunil\tM\t9\t75\t78\t71\t82\t91\t93\t490\t82\n",
      "6\tSonali\tF\t8\t95\t76\t82\t73\t81\t94\t501\t84\n",
      "7\tBhoomi\tF\t8\t85\t84\t92\t73\t81\t95\t510\t85\n",
      "8\tShweta\tF\t7\t89\t80\t99\t98\t97\t95\t558\t93\n",
      "9\tRadhika\tF\t7\t85\t74\t86\t85\t83\t87\t500\t83\n",
      "10\tHelly\tF\t7\t74\t75\t74\t76\t71\t72\t442\t74\n",
      "11\tKirti\tF\t6\t65\t75\t69\t73\t71\t85\t438\t73\n",
      "12\tDax\tM\t6\t65\t85\t64\t75\t75\t71\t435\t72\n",
      "13\tYashvi\tF\t6\t85\t62\t75\t86\t65\t73\t446\t74\n",
      "14\tRishi\tM\t5\t75\t82\t34\t42\t65\t66\t364\t61\n",
      "15\tMeshva\tF\t5\t75\t75\t85\t66\t67\t62\t430\t72\n",
      "\n"
     ]
    }
   ],
   "source": [
    "a =  ''\n",
    "for i in percentage:\n",
    "    i = \"\\t\".join(i)\n",
    "    print(i)\n",
    "    a += i+\"\\n\"\n",
    "print(a)"
   ]
  },
  {
   "cell_type": "code",
   "execution_count": 36,
   "id": "b004ccc9",
   "metadata": {},
   "outputs": [
    {
     "name": "stdout",
     "output_type": "stream",
     "text": [
      "id\tname\tGender\tstd\tGuj.\tHindi\tEng.\tEco.\tSci.\tMaths\tTotal1\tVimal\tM\t10\t80\t89\t88\t78\t85\t86\t506\t84\n",
      "2\tNayan\tM\t9\t89\t82\t85\t87\t80\t80\t503\t84\n",
      "3\tVaishali\tF\t8\t79\t89\t75\t85\t95\t85\t508\t85\n",
      "4\tNavneet\tM\t10\t85\t79\t75\t89\t73\t83\t484\t81\n",
      "5\tSunil\tM\t9\t75\t78\t71\t82\t91\t93\t490\t82\n",
      "6\tSonali\tF\t8\t95\t76\t82\t73\t81\t94\t501\t84\n",
      "7\tBhoomi\tF\t8\t85\t84\t92\t73\t81\t95\t510\t85\n",
      "8\tShweta\tF\t7\t89\t80\t99\t98\t97\t95\t558\t93\n",
      "9\tRadhika\tF\t7\t85\t74\t86\t85\t83\t87\t500\t83\n",
      "10\tHelly\tF\t7\t74\t75\t74\t76\t71\t72\t442\t74\n",
      "11\tKirti\tF\t6\t65\t75\t69\t73\t71\t85\t438\t73\n",
      "12\tDax\tM\t6\t65\t85\t64\t75\t75\t71\t435\t72\n",
      "13\tYashvi\tF\t6\t85\t62\t75\t86\t65\t73\t446\t74\n",
      "14\tRishi\tM\t5\t75\t82\t34\t42\t65\t66\t364\t61\n",
      "15\tMeshva\tF\t5\t75\t75\t85\t66\t67\t62\t430\t72\n",
      "\n"
     ]
    }
   ],
   "source": [
    "print(p[0]+a)"
   ]
  },
  {
   "cell_type": "code",
   "execution_count": 37,
   "id": "c06d0726",
   "metadata": {},
   "outputs": [
    {
     "name": "stdout",
     "output_type": "stream",
     "text": [
      "id\tname\tGender\tstd\tGuj.\tHindi\tEng.\tEco.\tSci.\tMaths\tTotal\tPercentage\n",
      "\n"
     ]
    }
   ],
   "source": [
    "head = p[0]+\"\\tPercentage\\n\"\n",
    "print(head)"
   ]
  },
  {
   "cell_type": "code",
   "execution_count": 38,
   "id": "edde59a5",
   "metadata": {},
   "outputs": [
    {
     "name": "stdout",
     "output_type": "stream",
     "text": [
      "id\tname\tGender\tstd\tGuj.\tHindi\tEng.\tEco.\tSci.\tMaths\tTotal\tPercentage\n",
      "1\tVimal\tM\t10\t80\t89\t88\t78\t85\t86\t506\t84\n",
      "2\tNayan\tM\t9\t89\t82\t85\t87\t80\t80\t503\t84\n",
      "3\tVaishali\tF\t8\t79\t89\t75\t85\t95\t85\t508\t85\n",
      "4\tNavneet\tM\t10\t85\t79\t75\t89\t73\t83\t484\t81\n",
      "5\tSunil\tM\t9\t75\t78\t71\t82\t91\t93\t490\t82\n",
      "6\tSonali\tF\t8\t95\t76\t82\t73\t81\t94\t501\t84\n",
      "7\tBhoomi\tF\t8\t85\t84\t92\t73\t81\t95\t510\t85\n",
      "8\tShweta\tF\t7\t89\t80\t99\t98\t97\t95\t558\t93\n",
      "9\tRadhika\tF\t7\t85\t74\t86\t85\t83\t87\t500\t83\n",
      "10\tHelly\tF\t7\t74\t75\t74\t76\t71\t72\t442\t74\n",
      "11\tKirti\tF\t6\t65\t75\t69\t73\t71\t85\t438\t73\n",
      "12\tDax\tM\t6\t65\t85\t64\t75\t75\t71\t435\t72\n",
      "13\tYashvi\tF\t6\t85\t62\t75\t86\t65\t73\t446\t74\n",
      "14\tRishi\tM\t5\t75\t82\t34\t42\t65\t66\t364\t61\n",
      "15\tMeshva\tF\t5\t75\t75\t85\t66\t67\t62\t430\t72\n",
      "\n"
     ]
    }
   ],
   "source": [
    "dtaa = head + a\n",
    "print(dtaa)"
   ]
  },
  {
   "cell_type": "code",
   "execution_count": 39,
   "id": "e85fbaed",
   "metadata": {},
   "outputs": [
    {
     "data": {
      "text/plain": [
       "['id\\tname\\tGender\\tstd\\tGuj.\\tHindi\\tEng.\\tEco.\\tSci.\\tMaths\\tTotal\\tPercentage',\n",
       " '1\\tVimal\\tM\\t10\\t80\\t89\\t88\\t78\\t85\\t86\\t506\\t84',\n",
       " '2\\tNayan\\tM\\t9\\t89\\t82\\t85\\t87\\t80\\t80\\t503\\t84',\n",
       " '3\\tVaishali\\tF\\t8\\t79\\t89\\t75\\t85\\t95\\t85\\t508\\t85',\n",
       " '4\\tNavneet\\tM\\t10\\t85\\t79\\t75\\t89\\t73\\t83\\t484\\t81',\n",
       " '5\\tSunil\\tM\\t9\\t75\\t78\\t71\\t82\\t91\\t93\\t490\\t82',\n",
       " '6\\tSonali\\tF\\t8\\t95\\t76\\t82\\t73\\t81\\t94\\t501\\t84',\n",
       " '7\\tBhoomi\\tF\\t8\\t85\\t84\\t92\\t73\\t81\\t95\\t510\\t85',\n",
       " '8\\tShweta\\tF\\t7\\t89\\t80\\t99\\t98\\t97\\t95\\t558\\t93',\n",
       " '9\\tRadhika\\tF\\t7\\t85\\t74\\t86\\t85\\t83\\t87\\t500\\t83',\n",
       " '10\\tHelly\\tF\\t7\\t74\\t75\\t74\\t76\\t71\\t72\\t442\\t74',\n",
       " '11\\tKirti\\tF\\t6\\t65\\t75\\t69\\t73\\t71\\t85\\t438\\t73',\n",
       " '12\\tDax\\tM\\t6\\t65\\t85\\t64\\t75\\t75\\t71\\t435\\t72',\n",
       " '13\\tYashvi\\tF\\t6\\t85\\t62\\t75\\t86\\t65\\t73\\t446\\t74',\n",
       " '14\\tRishi\\tM\\t5\\t75\\t82\\t34\\t42\\t65\\t66\\t364\\t61',\n",
       " '15\\tMeshva\\tF\\t5\\t75\\t75\\t85\\t66\\t67\\t62\\t430\\t72']"
      ]
     },
     "execution_count": 39,
     "metadata": {},
     "output_type": "execute_result"
    }
   ],
   "source": [
    "v = dtaa.split(\"\\n\")\n",
    "v.pop()\n",
    "v"
   ]
  },
  {
   "cell_type": "code",
   "execution_count": 50,
   "id": "21ca99b7",
   "metadata": {},
   "outputs": [
    {
     "name": "stdout",
     "output_type": "stream",
     "text": [
      "Enter Your No. :5\n",
      "id\tname\tGender\tstd\tGuj.\tHindi\tEng.\tEco.\tSci.\tMaths\tTotal\tPercentage\n",
      "5\tSunil\tM\t9\t75\t78\t71\t82\t91\t93\t490\t82\n",
      "B grade\n"
     ]
    }
   ],
   "source": [
    "roll = input(\"Enter Your No. :\")\n",
    "grade = ' '\n",
    "# name = input(\"Enter Your Name :\").capitalize()\n",
    "\n",
    "for i in v:\n",
    "#     print(i)\n",
    "    sp = i.split(\"\\t\")\n",
    "#     print(sp)\n",
    "\n",
    "    if roll == sp[0]:\n",
    "        g = int(sp[11])\n",
    "    \n",
    "        if g >= 90:\n",
    "            grade = \"A\"\n",
    "            print(v[0])\n",
    "            print(i)\n",
    "            print(grade + \" grade\")\n",
    "        elif g >= 80:\n",
    "            grade = \"B\"\n",
    "            print(v[0])\n",
    "            print(i)\n",
    "            print(grade + \" grade\")\n",
    "        elif g >= 70:\n",
    "            grade = \"c\"\n",
    "            print(v[0])\n",
    "            print(i)\n",
    "            print(grade + \" grade\")\n",
    "   \n",
    "            file1 = open(f\"C:\\\\Users\\\\BAPS\\\\Desktop\\\\result\\\\{i[1]}_result.html\",\"w\")\n",
    "            file1.write(f'''\n",
    "            <!DOCTYPE html>\n",
    "<html lang=\"en\">\n",
    "<head>\n",
    "    <meta charset=\"UTF-8\">\n",
    "    <meta http-equiv=\"X-UA-Compatible\" content=\"IE=edge\">\n",
    "    <meta name=\"viewport\" content=\"width=device-width, initial-scale=1.0\">\n",
    "\n",
    "    <link href=\"https://cdn.jsdelivr.net/npm/bootstrap@5.3.0-alpha3/dist/css/bootstrap.min.css\" rel=\"stylesheet\" integrity=\"sha384-KK94CHFLLe+nY2dmCWGMq91rCGa5gtU4mk92HdvYe+M/SXH301p5ILy+dN9+nJOZ\" crossorigin=\"anonymous\">\n",
    "    <script src=\"https://cdn.jsdelivr.net/npm/bootstrap@5.3.0-alpha3/dist/js/bootstrap.bundle.min.js\" integrity=\"sha384-ENjdO4Dr2bkBIFxQpeoTz1HIcje39Wm4jDKdf19U8gI4ddQ3GYNS7NTKfAdVQSZe\" crossorigin=\"anonymous\"></script>\n",
    "\n",
    "\n",
    "    <title>Document</title>\n",
    "</head>\n",
    "<body>\n",
    "  <h1> ABC School</h1>\n",
    "  <h1> Hello {sp[1]}</h1>\n",
    "  <table class=\"table\">\n",
    "      <thead>\n",
    "        <tr>\n",
    "          <th scope=\"col\">Gujarati</th>\n",
    "          <th scope=\"col\">Hindi</th>\n",
    "          <th scope=\"col\">English</th>\n",
    "          <th scope=\"col\">Economics</th>\n",
    "          <th scope=\"col\">Science</th>\n",
    "          <th scope=\"col\">Maths</th>\n",
    "        </tr>\n",
    "      </thead>\n",
    "      <tbody>\n",
    "        <tr>\n",
    "          <td>{sp[4]}</td>\n",
    "          <td>{sp[5]}</td>\n",
    "          <td>{sp[6]}</td>\n",
    "          <td>{sp[7]}</td>\n",
    "          <td>{sp[8]}</td>\n",
    "          <td>{sp[9]}</td>\n",
    "        </tr>\n",
    "        <tr>\n",
    "          <td>Total Marks : {sp[10]}</td>\n",
    "        </tr>\n",
    "        <tr>\n",
    "          <td>Percentage : {sp[11]} % </td>\n",
    "        </tr>\n",
    "        <tr>\n",
    "          <td>Grade : {grade}  </td>\n",
    "        </tr>\n",
    "\n",
    "      </tbody>\n",
    "    </table>\n",
    "\n",
    "</body>\n",
    "</html>\n",
    "            ''')"
   ]
  },
  {
   "cell_type": "code",
   "execution_count": null,
   "id": "2293ca80",
   "metadata": {},
   "outputs": [],
   "source": []
  }
 ],
 "metadata": {
  "kernelspec": {
   "display_name": "Python 3 (ipykernel)",
   "language": "python",
   "name": "python3"
  },
  "language_info": {
   "codemirror_mode": {
    "name": "ipython",
    "version": 3
   },
   "file_extension": ".py",
   "mimetype": "text/x-python",
   "name": "python",
   "nbconvert_exporter": "python",
   "pygments_lexer": "ipython3",
   "version": "3.11.3"
  }
 },
 "nbformat": 4,
 "nbformat_minor": 5
}
