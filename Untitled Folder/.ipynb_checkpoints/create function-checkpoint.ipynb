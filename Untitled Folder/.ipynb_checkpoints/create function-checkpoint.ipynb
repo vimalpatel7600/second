{
 "cells": [
  {
   "cell_type": "code",
   "execution_count": null,
   "id": "be47378c",
   "metadata": {},
   "outputs": [],
   "source": [
    "def cal(*argu):\n",
    "    opr = [\"+\",\"-\",\"*\",\"/\"]\n",
    "    if argu[1] == \"+\" :\n",
    "        print( argu[0]+argu[2])\n",
    "\n",
    "    elif argu[1] == \"-\" :\n",
    "        print( argu[0]-argu[2])\n",
    "\n",
    "    elif argu[1] == \"*\" :\n",
    "        print( argu[0]*argu[2])\n",
    "\n",
    "    elif argu[1] == \"/\" :\n",
    "        print( argu[0]/argu[2])\n",
    "    elif argu[1] != opr:\n",
    "        print(\"Invalid Operater\") \n"
   ]
  },
  {
   "cell_type": "code",
   "execution_count": null,
   "id": "df44ae09",
   "metadata": {},
   "outputs": [],
   "source": [
    "cal(int(input(\"1st value :\")), input(\"enter operater :\"), int(input(\"2nd value:\")) )"
   ]
  },
  {
   "cell_type": "code",
   "execution_count": 108,
   "id": "b2c3d7ef",
   "metadata": {},
   "outputs": [],
   "source": [
    "def tp (*a) :\n",
    "    print(a)\n",
    "    result = sum(a)\n",
    "    print(result)"
   ]
  },
  {
   "cell_type": "code",
   "execution_count": 109,
   "id": "8a11d80d",
   "metadata": {},
   "outputs": [
    {
     "name": "stdout",
     "output_type": "stream",
     "text": [
      "(20, 10, 30, 50, 60)\n",
      "170\n"
     ]
    }
   ],
   "source": [
    "tp(20,10,30,50,60)"
   ]
  },
  {
   "cell_type": "code",
   "execution_count": null,
   "id": "660849c5",
   "metadata": {},
   "outputs": [],
   "source": []
  },
  {
   "cell_type": "code",
   "execution_count": null,
   "id": "d14f1092",
   "metadata": {},
   "outputs": [],
   "source": []
  }
 ],
 "metadata": {
  "kernelspec": {
   "display_name": "Python 3 (ipykernel)",
   "language": "python",
   "name": "python3"
  },
  "language_info": {
   "codemirror_mode": {
    "name": "ipython",
    "version": 3
   },
   "file_extension": ".py",
   "mimetype": "text/x-python",
   "name": "python",
   "nbconvert_exporter": "python",
   "pygments_lexer": "ipython3",
   "version": "3.11.3"
  }
 },
 "nbformat": 4,
 "nbformat_minor": 5
}
