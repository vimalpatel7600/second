{
 "cells": [
  {
   "cell_type": "code",
   "execution_count": 17,
   "id": "afabc44e",
   "metadata": {},
   "outputs": [
    {
     "name": "stdout",
     "output_type": "stream",
     "text": [
      "quantity :240\n",
      "240\n",
      "rate :1\n",
      "1\n",
      "total 240\n",
      "Grand Total 240\n"
     ]
    }
   ],
   "source": [
    "pis = int(input(\"quantity :\"))\n",
    "print(pis)\n",
    "rate= int(input(\"rate :\"))\n",
    "print(rate)\n",
    "\n",
    "total = pis * rate\n",
    "print(\"total\", total)\n",
    "\n",
    "if total>=5000 :\n",
    "    print(\"dicscount\", total * 20 /100,\"Grand Total\", total - total * 20 / 100)\n",
    "elif total>=1000 :\n",
    "    print(\"dicscount\", total * 15 /100,\"Grand Total\", total - total * 15 / 100)\n",
    "elif total>=250 :\n",
    "    print(\"dicscount\", total * 10 /100,\"Grand Total\", total - total * 10 / 100)\n",
    "else :\n",
    "    print(\"Grand Total\", total)"
   ]
  },
  {
   "cell_type": "code",
   "execution_count": null,
   "id": "6b0ddf0e",
   "metadata": {},
   "outputs": [],
   "source": []
  },
  {
   "cell_type": "code",
   "execution_count": null,
   "id": "c276f6e2",
   "metadata": {},
   "outputs": [],
   "source": []
  }
 ],
 "metadata": {
  "kernelspec": {
   "display_name": "Python 3 (ipykernel)",
   "language": "python",
   "name": "python3"
  },
  "language_info": {
   "codemirror_mode": {
    "name": "ipython",
    "version": 3
   },
   "file_extension": ".py",
   "mimetype": "text/x-python",
   "name": "python",
   "nbconvert_exporter": "python",
   "pygments_lexer": "ipython3",
   "version": "3.11.3"
  }
 },
 "nbformat": 4,
 "nbformat_minor": 5
}
