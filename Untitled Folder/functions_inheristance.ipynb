{
 "cells": [
  {
   "cell_type": "code",
   "execution_count": 5,
   "id": "1bd87248",
   "metadata": {},
   "outputs": [
    {
     "name": "stdout",
     "output_type": "stream",
     "text": [
      "i m class A\n",
      "i am class B\n"
     ]
    }
   ],
   "source": [
    "class a:\n",
    "    print(\"i m class A\")\n",
    "class b(a):\n",
    "    print(\"i am class B\")"
   ]
  },
  {
   "cell_type": "code",
   "execution_count": null,
   "id": "aea8a059",
   "metadata": {},
   "outputs": [],
   "source": [
    "# single Heritance"
   ]
  },
  {
   "cell_type": "code",
   "execution_count": 8,
   "id": "1586b1ef",
   "metadata": {},
   "outputs": [
    {
     "name": "stdout",
     "output_type": "stream",
     "text": [
      "function 1\n"
     ]
    }
   ],
   "source": [
    "class a:\n",
    "    def fun1(self):\n",
    "        print(\"function 1\")\n",
    "class b(a):\n",
    "    def fun2(self):\n",
    "        print(\"function 2\")\n",
    "\n",
    "oba = a()\n",
    "oba.fun1()"
   ]
  },
  {
   "cell_type": "code",
   "execution_count": 10,
   "id": "2ad10811",
   "metadata": {},
   "outputs": [
    {
     "ename": "AttributeError",
     "evalue": "'a' object has no attribute 'fun2'",
     "output_type": "error",
     "traceback": [
      "\u001b[1;31m---------------------------------------------------------------------------\u001b[0m",
      "\u001b[1;31mAttributeError\u001b[0m                            Traceback (most recent call last)",
      "Cell \u001b[1;32mIn[10], line 1\u001b[0m\n\u001b[1;32m----> 1\u001b[0m \u001b[43moba\u001b[49m\u001b[38;5;241;43m.\u001b[39;49m\u001b[43mfun2\u001b[49m(b)\n",
      "\u001b[1;31mAttributeError\u001b[0m: 'a' object has no attribute 'fun2'"
     ]
    }
   ],
   "source": [
    "oba.fun2(b)"
   ]
  },
  {
   "cell_type": "code",
   "execution_count": 14,
   "id": "cb6782d8",
   "metadata": {},
   "outputs": [
    {
     "name": "stdout",
     "output_type": "stream",
     "text": [
      "function 1\n"
     ]
    }
   ],
   "source": [
    "oba1=b()\n",
    "oba1.fun1()"
   ]
  },
  {
   "cell_type": "code",
   "execution_count": 15,
   "id": "70111dfa",
   "metadata": {},
   "outputs": [
    {
     "name": "stdout",
     "output_type": "stream",
     "text": [
      "function 2\n"
     ]
    }
   ],
   "source": [
    "oba1.fun2()"
   ]
  },
  {
   "cell_type": "code",
   "execution_count": null,
   "id": "79f0f2fe",
   "metadata": {},
   "outputs": [],
   "source": []
  },
  {
   "cell_type": "code",
   "execution_count": null,
   "id": "f732948a",
   "metadata": {},
   "outputs": [],
   "source": [
    "# multiple in"
   ]
  },
  {
   "cell_type": "code",
   "execution_count": 16,
   "id": "5fd1e305",
   "metadata": {},
   "outputs": [
    {
     "name": "stdout",
     "output_type": "stream",
     "text": [
      "Class A of fun1\n"
     ]
    }
   ],
   "source": [
    "class a:\n",
    "    def fun1(self):\n",
    "        print(\"Class A of fun1\")\n",
    "class b(a):\n",
    "    def fun2(self):\n",
    "        print(\"Class b(a) of fun2\")\n",
    "class c(a):\n",
    "    def fun3(self):\n",
    "        print(\"Class c(a) of fun3\")\n",
    "obaa = a()\n",
    "obaa.fun1()"
   ]
  },
  {
   "cell_type": "code",
   "execution_count": 22,
   "id": "4f7f20e5",
   "metadata": {},
   "outputs": [
    {
     "name": "stdout",
     "output_type": "stream",
     "text": [
      "Class b(a) of fun2\n",
      "Class A of fun1\n"
     ]
    }
   ],
   "source": [
    "oba = b()\n",
    "oba.fun2()\n",
    "oba.fun1()"
   ]
  },
  {
   "cell_type": "code",
   "execution_count": 27,
   "id": "dd2d0f57",
   "metadata": {},
   "outputs": [
    {
     "name": "stdout",
     "output_type": "stream",
     "text": [
      "Class A of fun1\n",
      "Class c(a) of fun3\n"
     ]
    }
   ],
   "source": [
    "oba = c()\n",
    "oba.fun1()\n",
    "oba.fun3()"
   ]
  },
  {
   "cell_type": "code",
   "execution_count": null,
   "id": "3d79e981",
   "metadata": {},
   "outputs": [],
   "source": []
  },
  {
   "cell_type": "code",
   "execution_count": 28,
   "id": "d2b4edea",
   "metadata": {},
   "outputs": [],
   "source": [
    "# multyleval in"
   ]
  },
  {
   "cell_type": "code",
   "execution_count": 29,
   "id": "16c4bc91",
   "metadata": {},
   "outputs": [
    {
     "name": "stdout",
     "output_type": "stream",
     "text": [
      "A - Fun1\n"
     ]
    }
   ],
   "source": [
    "class a:\n",
    "    def fun1(self):\n",
    "        print(\"A - Fun1\")\n",
    "class b(a):\n",
    "    def fun2(self):\n",
    "        print(\"B - Fun2\")\n",
    "class c(b):\n",
    "    def fun3(self):\n",
    "        print(\"C - Fun3\")\n",
    "class d(c):\n",
    "    def fun4(self):\n",
    "        print(\"D - Fun4\")\n",
    "        \n",
    "oba = a()\n",
    "oba.fun1()"
   ]
  },
  {
   "cell_type": "code",
   "execution_count": 30,
   "id": "00d1e95c",
   "metadata": {},
   "outputs": [
    {
     "name": "stdout",
     "output_type": "stream",
     "text": [
      "A - Fun1\n",
      "B - Fun2\n"
     ]
    }
   ],
   "source": [
    "oba=b()\n",
    "oba.fun1()\n",
    "oba.fun2()"
   ]
  },
  {
   "cell_type": "code",
   "execution_count": 31,
   "id": "de3388b3",
   "metadata": {},
   "outputs": [
    {
     "name": "stdout",
     "output_type": "stream",
     "text": [
      "A - Fun1\n",
      "B - Fun2\n",
      "C - Fun3\n"
     ]
    }
   ],
   "source": [
    "oba = c()\n",
    "oba.fun1()\n",
    "oba.fun2()\n",
    "oba.fun3()"
   ]
  },
  {
   "cell_type": "code",
   "execution_count": 32,
   "id": "55489458",
   "metadata": {},
   "outputs": [
    {
     "name": "stdout",
     "output_type": "stream",
     "text": [
      "A - Fun1\n",
      "B - Fun2\n",
      "C - Fun3\n",
      "D - Fun4\n"
     ]
    }
   ],
   "source": [
    "oba = d()\n",
    "oba.fun1()\n",
    "oba.fun2()\n",
    "oba.fun3()\n",
    "oba.fun4()"
   ]
  },
  {
   "cell_type": "code",
   "execution_count": 33,
   "id": "9e2a6b78",
   "metadata": {},
   "outputs": [
    {
     "name": "stdout",
     "output_type": "stream",
     "text": [
      "first\n"
     ]
    }
   ],
   "source": [
    "class a:\n",
    "    def fun1(self):\n",
    "        print(\"first\")\n",
    "class b:\n",
    "    def fun2(self):\n",
    "        print(\"second\")\n",
    "class c(a,b):\n",
    "    def fun3(self):\n",
    "        print(\"third\")\n",
    "class d(a):\n",
    "    def fun4(self):\n",
    "        print(\"fourth\")\n",
    "class e(c):\n",
    "    def fun5(self):\n",
    "        print(\"fifth\")\n",
    "        \n",
    "oba = a()\n",
    "oba.fun1()"
   ]
  },
  {
   "cell_type": "code",
   "execution_count": 34,
   "id": "0c2ba76e",
   "metadata": {},
   "outputs": [
    {
     "name": "stdout",
     "output_type": "stream",
     "text": [
      "second\n"
     ]
    }
   ],
   "source": [
    "oba = b()\n",
    "oba.fun2()"
   ]
  },
  {
   "cell_type": "code",
   "execution_count": 35,
   "id": "2e96474e",
   "metadata": {},
   "outputs": [
    {
     "name": "stdout",
     "output_type": "stream",
     "text": [
      "first\n",
      "second\n",
      "third\n"
     ]
    }
   ],
   "source": [
    "oba = c()\n",
    "oba.fun1()\n",
    "oba.fun2()\n",
    "oba.fun3()"
   ]
  },
  {
   "cell_type": "code",
   "execution_count": 36,
   "id": "19320e25",
   "metadata": {},
   "outputs": [
    {
     "name": "stdout",
     "output_type": "stream",
     "text": [
      "first\n",
      "fourth\n"
     ]
    }
   ],
   "source": [
    "oba = d()\n",
    "oba.fun1()\n",
    "oba.fun4()"
   ]
  },
  {
   "cell_type": "code",
   "execution_count": 45,
   "id": "b64f6199",
   "metadata": {},
   "outputs": [
    {
     "name": "stdout",
     "output_type": "stream",
     "text": [
      "fifth\n",
      "first\n"
     ]
    }
   ],
   "source": [
    "oba = e()\n",
    "oba.fun5()\n",
    "oba.fun1()\n"
   ]
  },
  {
   "cell_type": "code",
   "execution_count": null,
   "id": "aa97ceb2",
   "metadata": {},
   "outputs": [],
   "source": []
  }
 ],
 "metadata": {
  "kernelspec": {
   "display_name": "Python 3 (ipykernel)",
   "language": "python",
   "name": "python3"
  },
  "language_info": {
   "codemirror_mode": {
    "name": "ipython",
    "version": 3
   },
   "file_extension": ".py",
   "mimetype": "text/x-python",
   "name": "python",
   "nbconvert_exporter": "python",
   "pygments_lexer": "ipython3",
   "version": "3.11.3"
  }
 },
 "nbformat": 4,
 "nbformat_minor": 5
}
