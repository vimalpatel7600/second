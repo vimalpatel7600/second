{
 "cells": [
  {
   "cell_type": "code",
   "execution_count": 19,
   "id": "ff6b15c3",
   "metadata": {},
   "outputs": [
    {
     "data": {
      "text/plain": [
       "'name\\troll\\tmath\\tsci\\teng\\nGrras\\t1 \\t86\\t87\\t85\\nAhsan\\t2\\t91\\t89\\t87\\t\\nNirav\\t3\\t89\\t78\\t96\\nMihir\\t4\\t89\\t85\\t79\\t\\nAbhay\\t5\\t89\\t74\\t85\\nVimal\\t6\\t87\\t85\\t94\\nDixit\\t7\\t75\\t85\\t89\\nDhruv\\t8\\t85\\t74\\t74\\nPrince\\t9\\t68\\t78\\t91\\nAnjali\\t10\\t78\\t58\\t67\\n\\n\\n'"
      ]
     },
     "execution_count": 19,
     "metadata": {},
     "output_type": "execute_result"
    }
   ],
   "source": [
    "file = open(\"C:\\\\Users\\\\BAPS\\\\Desktop\\\\student_data.txt\",\"r\")\n",
    "dt = file.read()\n",
    "dt"
   ]
  },
  {
   "cell_type": "code",
   "execution_count": 16,
   "id": "d22a0cd9",
   "metadata": {},
   "outputs": [
    {
     "data": {
      "text/plain": [
       "['name\\troll\\tmath\\tsci\\teng',\n",
       " 'Grras\\t1 \\t86\\t87\\t85',\n",
       " 'Ahsan\\t2\\t91\\t89\\t87\\t',\n",
       " 'Nirav\\t3\\t89\\t78\\t96',\n",
       " 'Mihir\\t4\\t89\\t85\\t79\\t',\n",
       " 'Abhay\\t5\\t89\\t74\\t85',\n",
       " 'Vimal\\t6\\t87\\t85\\t94',\n",
       " 'Dixit\\t7\\t75\\t85\\t89',\n",
       " 'Dhruv\\t8\\t85\\t74\\t74',\n",
       " 'Prince\\t9\\t68\\t78\\t91',\n",
       " 'Anjali\\t10\\t78\\t58\\t67']"
      ]
     },
     "execution_count": 16,
     "metadata": {},
     "output_type": "execute_result"
    }
   ],
   "source": [
    "data = dt.split(\"\\n\")\n",
    "data.pop()\n",
    "data.pop()\n",
    "data.pop()\n",
    "\n",
    "\n",
    "data"
   ]
  },
  {
   "cell_type": "code",
   "execution_count": 26,
   "id": "0c26a05f",
   "metadata": {},
   "outputs": [
    {
     "data": {
      "text/plain": [
       "['name\\troll\\tmath\\tsci\\teng',\n",
       " 'Grras\\t1 \\t86\\t87\\t85',\n",
       " 'Ahsan\\t2\\t91\\t89\\t87\\t',\n",
       " 'Nirav\\t3\\t89\\t78\\t96',\n",
       " 'Mihir\\t4\\t89\\t85\\t79\\t',\n",
       " 'Abhay\\t5\\t89\\t74\\t85',\n",
       " 'Vimal\\t6\\t87\\t85\\t94',\n",
       " 'Dixit\\t7\\t75\\t85\\t89',\n",
       " 'Dhruv\\t8\\t85\\t74\\t74',\n",
       " 'Prince\\t9\\t68\\t78\\t91',\n",
       " 'Anjali\\t10\\t78\\t58\\t67']"
      ]
     },
     "execution_count": 26,
     "metadata": {},
     "output_type": "execute_result"
    }
   ],
   "source": [
    "data1 = data\n",
    "data1"
   ]
  },
  {
   "cell_type": "code",
   "execution_count": 25,
   "id": "a008d268",
   "metadata": {},
   "outputs": [
    {
     "ename": "TypeError",
     "evalue": "'list' object is not callable",
     "output_type": "error",
     "traceback": [
      "\u001b[1;31m---------------------------------------------------------------------------\u001b[0m",
      "\u001b[1;31mTypeError\u001b[0m                                 Traceback (most recent call last)",
      "Cell \u001b[1;32mIn[25], line 1\u001b[0m\n\u001b[1;32m----> 1\u001b[0m \u001b[38;5;28;01mfor\u001b[39;00m i \u001b[38;5;129;01min\u001b[39;00m \u001b[43mdata1\u001b[49m\u001b[43m(\u001b[49m\u001b[43m)\u001b[49m:\n\u001b[0;32m      2\u001b[0m     \u001b[38;5;28mprint\u001b[39m(i, data(i))\n",
      "\u001b[1;31mTypeError\u001b[0m: 'list' object is not callable"
     ]
    }
   ],
   "source": [
    "for i in data1():\n",
    "    print(i, data(i))"
   ]
  },
  {
   "cell_type": "code",
   "execution_count": 27,
   "id": "32ee21f8",
   "metadata": {},
   "outputs": [
    {
     "ename": "TypeError",
     "evalue": "'list' object is not callable",
     "output_type": "error",
     "traceback": [
      "\u001b[1;31m---------------------------------------------------------------------------\u001b[0m",
      "\u001b[1;31mTypeError\u001b[0m                                 Traceback (most recent call last)",
      "Cell \u001b[1;32mIn[27], line 1\u001b[0m\n\u001b[1;32m----> 1\u001b[0m \u001b[38;5;28;01mfor\u001b[39;00m i \u001b[38;5;129;01min\u001b[39;00m \u001b[43mdata1\u001b[49m\u001b[43m(\u001b[49m\u001b[43m)\u001b[49m:\n\u001b[0;32m      2\u001b[0m     \u001b[38;5;28mprint\u001b[39m(i)\n",
      "\u001b[1;31mTypeError\u001b[0m: 'list' object is not callable"
     ]
    }
   ],
   "source": [
    "for i in data1():\n",
    "    print(i)"
   ]
  },
  {
   "cell_type": "code",
   "execution_count": null,
   "id": "44b820ea",
   "metadata": {},
   "outputs": [],
   "source": []
  }
 ],
 "metadata": {
  "kernelspec": {
   "display_name": "Python 3 (ipykernel)",
   "language": "python",
   "name": "python3"
  },
  "language_info": {
   "codemirror_mode": {
    "name": "ipython",
    "version": 3
   },
   "file_extension": ".py",
   "mimetype": "text/x-python",
   "name": "python",
   "nbconvert_exporter": "python",
   "pygments_lexer": "ipython3",
   "version": "3.11.3"
  }
 },
 "nbformat": 4,
 "nbformat_minor": 5
}
