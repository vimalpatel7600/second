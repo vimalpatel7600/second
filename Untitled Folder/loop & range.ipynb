{
 "cells": [
  {
   "cell_type": "code",
   "execution_count": 1,
   "id": "b5bc0d5f",
   "metadata": {},
   "outputs": [
    {
     "name": "stdout",
     "output_type": "stream",
     "text": [
      "0\n",
      "1\n",
      "2\n",
      "3\n",
      "4\n",
      "5\n",
      "6\n",
      "7\n",
      "8\n",
      "9\n"
     ]
    }
   ],
   "source": [
    "start=0\n",
    "while start<10:\n",
    "    print(start)\n",
    "    start+=1\n",
    "    "
   ]
  },
  {
   "cell_type": "code",
   "execution_count": 7,
   "id": "675779eb",
   "metadata": {},
   "outputs": [
    {
     "name": "stdout",
     "output_type": "stream",
     "text": [
      "37 x 1 = 37\n",
      "37 x 2 = 74\n",
      "37 x 3 = 111\n",
      "37 x 4 = 148\n",
      "37 x 5 = 185\n",
      "37 x 6 = 222\n",
      "37 x 7 = 259\n",
      "37 x 8 = 296\n",
      "37 x 9 = 333\n",
      "37 x 10 = 370\n"
     ]
    }
   ],
   "source": [
    "a=37\n",
    "\n",
    "for i in range(1,11):\n",
    "    \n",
    "    print(a,\"x\", i, \"=\", a*i)"
   ]
  },
  {
   "cell_type": "code",
   "execution_count": null,
   "id": "1e6901e9",
   "metadata": {},
   "outputs": [],
   "source": []
  }
 ],
 "metadata": {
  "kernelspec": {
   "display_name": "Python 3 (ipykernel)",
   "language": "python",
   "name": "python3"
  },
  "language_info": {
   "codemirror_mode": {
    "name": "ipython",
    "version": 3
   },
   "file_extension": ".py",
   "mimetype": "text/x-python",
   "name": "python",
   "nbconvert_exporter": "python",
   "pygments_lexer": "ipython3",
   "version": "3.11.3"
  }
 },
 "nbformat": 4,
 "nbformat_minor": 5
}
