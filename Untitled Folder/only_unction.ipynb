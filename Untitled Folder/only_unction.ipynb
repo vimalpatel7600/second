{
 "cells": [
  {
   "cell_type": "code",
   "execution_count": 1,
   "id": "6b075480",
   "metadata": {},
   "outputs": [
    {
     "name": "stdout",
     "output_type": "stream",
     "text": [
      "hello\n"
     ]
    }
   ],
   "source": [
    "class a:\n",
    "    print(\"hello\")"
   ]
  },
  {
   "cell_type": "code",
   "execution_count": 9,
   "id": "15767fba",
   "metadata": {},
   "outputs": [
    {
     "name": "stdout",
     "output_type": "stream",
     "text": [
      "first hello1\n"
     ]
    }
   ],
   "source": [
    "class a:\n",
    "    def fun1(s,a):\n",
    "        print(\"first\",a)\n",
    "oba = a()\n",
    "oba.fun1(\"hello1\")"
   ]
  },
  {
   "cell_type": "code",
   "execution_count": null,
   "id": "b22a8746",
   "metadata": {},
   "outputs": [],
   "source": []
  }
 ],
 "metadata": {
  "kernelspec": {
   "display_name": "Python 3 (ipykernel)",
   "language": "python",
   "name": "python3"
  },
  "language_info": {
   "codemirror_mode": {
    "name": "ipython",
    "version": 3
   },
   "file_extension": ".py",
   "mimetype": "text/x-python",
   "name": "python",
   "nbconvert_exporter": "python",
   "pygments_lexer": "ipython3",
   "version": "3.11.3"
  }
 },
 "nbformat": 4,
 "nbformat_minor": 5
}
