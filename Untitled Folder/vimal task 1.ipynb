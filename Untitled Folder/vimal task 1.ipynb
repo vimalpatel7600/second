{
 "cells": [
  {
   "cell_type": "code",
   "execution_count": 1,
   "id": "afabc44e",
   "metadata": {},
   "outputs": [
    {
     "name": "stdout",
     "output_type": "stream",
     "text": [
      "50\n",
      "50\n",
      "total 2500\n",
      "dicscount 375.0 Grand Total 2125.0\n"
     ]
    }
   ],
   "source": [
    "pis = int(input(\"quantity :\"))\n",
    "print(pis)\n",
    "rate= int(input(\"rate :\"))\n",
    "print(rate)\n",
    "\n",
    "total = pis * rate\n",
    "print(\"total\", total)\n",
    "\n",
    "if total>=5000 :\n",
    "    print(\"dicscount\", total * 20 /100,\"Grand Total\", total - total * 20 / 100)\n",
    "elif total>=1000 :\n",
    "    print(\"dicscount\", total * 15 /100,\"Grand Total\", total - total * 15 / 100)\n",
    "elif total>=250 :\n",
    "    print(\"dicscount\", total * 10 /100,\"Grand Total\", total - total * 10 / 100)\n",
    "else :\n",
    "    print(\"Grand Total\", total)"
   ]
  },
  {
   "cell_type": "code",
   "execution_count": 3,
   "id": "6b0ddf0e",
   "metadata": {},
   "outputs": [
    {
     "name": "stdout",
     "output_type": "stream",
     "text": [
      "quantity :500\n",
      "rate :10\n",
      "total 5000\n",
      "dicscount 20% = - 1000.0\n",
      "Grand Total 4000.0\n"
     ]
    }
   ],
   "source": [
    "pis = int(input(\"quantity :\"))\n",
    "rate= int(input(\"rate :\"))\n",
    "\n",
    "total = pis * rate\n",
    "print(\"total\", total)\n",
    "\n",
    "if total>=5000 :\n",
    "    print(\"dicscount\",\"20%\",\"=\",\"-\", total * 20 /100)\n",
    "    print(\"Grand Total\", total - total * 20 / 100)\n",
    "elif total>=1000 :\n",
    "    print(\"dicscount\",\"15%\",\"=\",\"-\", total * 15 /100)\n",
    "    print(\"Grand Total\", total - total * 15 / 100)\n",
    "elif total>=250 :\n",
    "    print(\"dicscount\",\"10%\",\"=\",\"-\", total * 10 /100)\n",
    "    print(\"Grand Total\", total - total * 10 / 100)\n",
    "else :\n",
    "    print(\"Grand Total\", total)"
   ]
  },
  {
   "cell_type": "code",
   "execution_count": null,
   "id": "c276f6e2",
   "metadata": {},
   "outputs": [],
   "source": []
  }
 ],
 "metadata": {
  "kernelspec": {
   "display_name": "Python 3 (ipykernel)",
   "language": "python",
   "name": "python3"
  },
  "language_info": {
   "codemirror_mode": {
    "name": "ipython",
    "version": 3
   },
   "file_extension": ".py",
   "mimetype": "text/x-python",
   "name": "python",
   "nbconvert_exporter": "python",
   "pygments_lexer": "ipython3",
   "version": "3.11.3"
  }
 },
 "nbformat": 4,
 "nbformat_minor": 5
}
